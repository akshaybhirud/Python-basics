{
 "cells": [
  {
   "cell_type": "markdown",
   "metadata": {},
   "source": [
    "# Introduction to NUMPY"
   ]
  },
  {
   "cell_type": "code",
   "execution_count": 5,
   "metadata": {
    "collapsed": true
   },
   "outputs": [],
   "source": [
    "## NumPy, which stands for Numerical Python\n",
    "## import numpy\n",
    "\n",
    "import numpy as np"
   ]
  },
  {
   "cell_type": "code",
   "execution_count": 6,
   "metadata": {},
   "outputs": [
    {
     "name": "stdout",
     "output_type": "stream",
     "text": [
      "('out_tu:', array([1, 2, 3]))\n",
      "('out_tu type:', <class 'numpy.ndarray'>)\n"
     ]
    }
   ],
   "source": [
    "## create a tuple and convert into array\n",
    "tu = (1,2,3)\n",
    "type(tu)\n",
    "out_tu = np.array(tu)\n",
    "print((\"out_tu:\",out_tu))\n",
    "print((\"out_tu type:\",type(out_tu)))\n"
   ]
  },
  {
   "cell_type": "code",
   "execution_count": null,
   "metadata": {
    "collapsed": true
   },
   "outputs": [],
   "source": [
    "## create a list and convert into array"
   ]
  },
  {
   "cell_type": "code",
   "execution_count": 1,
   "metadata": {},
   "outputs": [
    {
     "data": {
      "text/plain": [
       "list"
      ]
     },
     "execution_count": 1,
     "metadata": {},
     "output_type": "execute_result"
    }
   ],
   "source": [
    "## create numpy array\n",
    "\n",
    "## List is created\n",
    "inp = [20.1, 20.8, 21.9, 22.5, 22.7, 22.3, 21.8, 21.2, 20.9, 20.1]\n",
    "type(inp)  "
   ]
  },
  {
   "cell_type": "code",
   "execution_count": 4,
   "metadata": {},
   "outputs": [
    {
     "ename": "TypeError",
     "evalue": "unsupported operand type(s) for ** or pow(): 'list' and 'int'",
     "output_type": "error",
     "traceback": [
      "\u001b[1;31m---------------------------------------------------------------------------\u001b[0m",
      "\u001b[1;31mTypeError\u001b[0m                                 Traceback (most recent call last)",
      "\u001b[1;32m<ipython-input-4-aa6315bd3a44>\u001b[0m in \u001b[0;36m<module>\u001b[1;34m()\u001b[0m\n\u001b[1;32m----> 1\u001b[1;33m \u001b[0mk\u001b[0m \u001b[1;33m=\u001b[0m \u001b[0minp\u001b[0m\u001b[1;33m**\u001b[0m\u001b[1;36m2\u001b[0m\u001b[1;33m\u001b[0m\u001b[0m\n\u001b[0m\u001b[0;32m      2\u001b[0m \u001b[0mk\u001b[0m\u001b[1;33m\u001b[0m\u001b[0m\n",
      "\u001b[1;31mTypeError\u001b[0m: unsupported operand type(s) for ** or pow(): 'list' and 'int'"
     ]
    }
   ],
   "source": []
  },
  {
   "cell_type": "code",
   "execution_count": 13,
   "metadata": {},
   "outputs": [
    {
     "name": "stdout",
     "output_type": "stream",
     "text": [
      "[20.1 20.8 21.9 22.5 22.7 22.3 21.8 21.2 20.9 20.1]\n",
      "(10,)\n",
      "<class 'numpy.ndarray'>\n"
     ]
    }
   ],
   "source": [
    "##convert the values into one dim array\n",
    "\n",
    "out = np.array(inp)\n",
    "print(out)\n",
    "print(out.shape) # check for the dim\n",
    "print(type(out)) # check for the datatype"
   ]
  },
  {
   "cell_type": "code",
   "execution_count": 16,
   "metadata": {},
   "outputs": [
    {
     "name": "stdout",
     "output_type": "stream",
     "text": [
      "[0 1 2 3 4 5 6 7 8]\n",
      "1\n",
      "(9,)\n"
     ]
    }
   ],
   "source": [
    "\n",
    "## create a seq num in array\n",
    "\n",
    "sq = np.arange(9)\n",
    "print(sq)\n",
    "print(sq.ndim) # 1 dim\n",
    "print(sq.shape)\n"
   ]
  },
  {
   "cell_type": "code",
   "execution_count": 17,
   "metadata": {},
   "outputs": [
    {
     "name": "stdout",
     "output_type": "stream",
     "text": [
      "1\n",
      "9\n",
      "4\n",
      "36\n"
     ]
    }
   ],
   "source": [
    "my_array = np.arange(9)\n",
    "\n",
    "# Print the number of `my_array`'s dimensions\n",
    "print(my_array.ndim)\n",
    "\n",
    "# Print the number of `my_array`'s elements\n",
    "print(my_array.size)\n",
    "\n",
    "# Print the length of one array element in bytes\n",
    "print(my_array.itemsize)\n",
    "\n",
    "# Print the total consumed bytes by `my_array`'s elements\n",
    "print(my_array.nbytes)"
   ]
  },
  {
   "cell_type": "code",
   "execution_count": 6,
   "metadata": {},
   "outputs": [
    {
     "name": "stdout",
     "output_type": "stream",
     "text": [
      "[0 1 2 3 4 5 6 7 8]\n",
      "9\n",
      "<class 'numpy.ndarray'>\n",
      "[0. 1. 2. 3. 4. 5. 6. 7. 8.]\n"
     ]
    }
   ],
   "source": [
    "# Print the length of `my_array`\n",
    "import numpy as np\n",
    "\n",
    "my_array = np.arange(9)\n",
    "print(my_array)\n",
    "print(len(my_array))\n",
    "print(type(my_array))\n",
    "# Change the data type of `my_array`\n",
    "print(my_array.astype(float))\n",
    "#print(my_array)"
   ]
  },
  {
   "cell_type": "code",
   "execution_count": 10,
   "metadata": {},
   "outputs": [
    {
     "name": "stdout",
     "output_type": "stream",
     "text": [
      "[0 1 2 3 4]\n",
      "[ 5  6  7  8  9 10 11 12 13 14 15 16 17 18 19 20 21 22 23 24]\n",
      "[ 0  2  4  6  8 10 12 14]\n"
     ]
    }
   ],
   "source": [
    "print(np.arange(5))\n",
    "print(np.arange(5, 25))\n",
    "print(np.arange(0, 15, 2))\n"
   ]
  },
  {
   "cell_type": "markdown",
   "metadata": {},
   "source": [
    "# linespace\n",
    "Start: Starting value of the sequence\n",
    "Stop: End value of the sequence\n",
    "Num: Number of samples to generate. Default is 50\n",
    "Endpoint: If True (default), stop is the last value. If False, stop value is not included."
   ]
  },
  {
   "cell_type": "code",
   "execution_count": 13,
   "metadata": {},
   "outputs": [
    {
     "name": "stdout",
     "output_type": "stream",
     "text": [
      "[ 1.          2.33333333  3.66666667  5.        ]\n"
     ]
    }
   ],
   "source": [
    "#np.linspace(1.0, 5.0, num=4)\n",
    "a = np.linspace(1, 5, num=4)\n",
    "print(a)"
   ]
  },
  {
   "cell_type": "code",
   "execution_count": 14,
   "metadata": {},
   "outputs": [
    {
     "data": {
      "text/plain": [
       "array([ 0.        ,  0.55555556,  1.11111111,  1.66666667,  2.22222222,\n",
       "        2.77777778,  3.33333333,  3.88888889,  4.44444444,  5.        ])"
      ]
     },
     "execution_count": 14,
     "metadata": {},
     "output_type": "execute_result"
    }
   ],
   "source": [
    "# Create an array of evenly-spaced values\n",
    "np.linspace(0,5,10) #start # end # num of split"
   ]
  },
  {
   "cell_type": "code",
   "execution_count": 11,
   "metadata": {},
   "outputs": [
    {
     "name": "stdout",
     "output_type": "stream",
     "text": [
      "[ 1.   1.8  2.6  3.4  4.2]\n",
      "[ 1.          1.57142857  2.14285714  2.71428571  3.28571429  3.85714286\n",
      "  4.42857143]\n",
      "[ 1.  2.  3.  4.  5.]\n"
     ]
    }
   ],
   "source": [
    "# include the last digit in the interval\n",
    "print(np.linspace(1.0, 5.0, num=5, endpoint=False))\n",
    "\n",
    "print(np.linspace(1.0, 5.0, num=7, endpoint=False))\n",
    "print(np.linspace(1.0, 5.0, num=5, endpoint=True))"
   ]
  },
  {
   "cell_type": "code",
   "execution_count": 23,
   "metadata": {},
   "outputs": [
    {
     "name": "stdout",
     "output_type": "stream",
     "text": [
      "value of c:  [20.1, 20.8, 21.9, 22.5, 22.7, 22.3, 21.8, 21.2, 20.9, 20.1]\n",
      "array c:  [20.1 20.8 21.9 22.5 22.7 22.3 21.8 21.2 20.9 20.1]\n",
      "[68.18 69.44 71.42 72.5  72.86 72.14 71.24 70.16 69.62 68.18]\n",
      "<class 'numpy.ndarray'>\n"
     ]
    }
   ],
   "source": [
    "# example - Numpy example deals with temperatures. Given is a list with values, e.g. temperatures in Celsius\n",
    "cvalues = [20.1, 20.8, 21.9, 22.5, 22.7, 22.3, 21.8, 21.2, 20.9, 20.1] # list\n",
    "C = np.array(cvalues) # convert the list into array\n",
    "print(\"value of c: \", cvalues)\n",
    "print(\"array c: \", C)\n",
    "\n",
    "print(C * 9 / 5 + 32) # convert the  values into degrees Fahrenheit\n",
    "print(type(C))"
   ]
  },
  {
   "cell_type": "code",
   "execution_count": 10,
   "metadata": {},
   "outputs": [
    {
     "name": "stdout",
     "output_type": "stream",
     "text": [
      "[68.18, 69.44, 71.42, 72.5, 72.86, 72.14, 71.24000000000001, 70.16, 69.62, 68.18]\n"
     ]
    }
   ],
   "source": [
    "# above same code without numpy\n",
    "fvalues = [ x*9/5 + 32 for x in cvalues] \n",
    "print(fvalues)"
   ]
  },
  {
   "cell_type": "code",
   "execution_count": 13,
   "metadata": {},
   "outputs": [
    {
     "name": "stdout",
     "output_type": "stream",
     "text": [
      "[1 2 3 4 5 6 7 8 9]\n",
      "(9,)\n",
      "(1, 3, 3)\n",
      "[[[1 2 3]\n",
      "  [4 5 6]\n",
      "  [7 8 9]]]\n",
      "<class 'numpy.ndarray'>\n",
      "1\n",
      "3\n",
      "9\n",
      "<built-in method item of numpy.ndarray object at 0x0868FCF0>\n"
     ]
    }
   ],
   "source": [
    "#sq = np.arange(9)\n",
    "sq = np.arange(1,10)\n",
    "print(sq)\n",
    "print(sq.shape)\n",
    "b = sq.reshape(1,3,3)  # 1 matrix 2 row, 2 col\n",
    "print(b.shape)\n",
    "print(b)\n",
    "print(type(sq))\n",
    "print(sq.ndim)\n",
    "print(b.ndim)\n",
    "print(sq.size)\n",
    "print(sq.item)"
   ]
  },
  {
   "cell_type": "code",
   "execution_count": 16,
   "metadata": {},
   "outputs": [
    {
     "name": "stdout",
     "output_type": "stream",
     "text": [
      "[ 1  2  3  4  5  6  7  8  9 10 11 12 13 14 15 16 17 18 19 20 21 22 23 24]\n",
      "(24,)\n",
      "[[[ 1  2  3]\n",
      "  [ 4  5  6]\n",
      "  [ 7  8  9]\n",
      "  [10 11 12]]\n",
      "\n",
      " [[13 14 15]\n",
      "  [16 17 18]\n",
      "  [19 20 21]\n",
      "  [22 23 24]]]\n",
      "1\n",
      "24\n",
      "<built-in method item of numpy.ndarray object at 0x0869ABD8>\n"
     ]
    }
   ],
   "source": [
    "#sq = np.arange(24)\n",
    "sq = np.arange(1,25)\n",
    "print(sq)\n",
    "print(sq.shape)\n",
    "b = sq.reshape(2,4,3)  # 2 matrix 4 row, 3 col\n",
    "print(b)\n",
    "type(b)\n",
    "\n",
    "print(sq.ndim)\n",
    "print(sq.size)\n",
    "print(sq.item)"
   ]
  },
  {
   "cell_type": "code",
   "execution_count": 144,
   "metadata": {},
   "outputs": [
    {
     "name": "stdout",
     "output_type": "stream",
     "text": [
      "[ 1  2  3  4  5  6  7  8  9 10 11 12 13 14 15 16 17 18 19 20 21 22 23 24]\n",
      "(24,)\n",
      "[[[ 1  2  3  4  5  6]\n",
      "  [ 7  8  9 10 11 12]\n",
      "  [13 14 15 16 17 18]\n",
      "  [19 20 21 22 23 24]]]\n",
      "1\n",
      "24\n",
      "<built-in method item of numpy.ndarray object at 0x0000015BC57F73F0>\n"
     ]
    }
   ],
   "source": [
    "#sq = np.arange(24)\n",
    "sq = np.arange(1,25)\n",
    "print(sq)\n",
    "print(sq.shape)\n",
    "b = sq.reshape(1,4,6)  # 2 matrix 4 row, 3 col\n",
    "print(b)\n",
    "type(b)\n",
    "\n",
    "print(sq.ndim)\n",
    "print(sq.size)\n",
    "print(sq.item)"
   ]
  },
  {
   "cell_type": "code",
   "execution_count": 143,
   "metadata": {},
   "outputs": [
    {
     "name": "stdout",
     "output_type": "stream",
     "text": [
      "[[[ 1  2  3  4  5  6]\n",
      "  [ 7  8  9 10 11 12]\n",
      "  [13 14 15 16 17 18]\n",
      "  [19 20 21 22 23 24]]]\n"
     ]
    }
   ],
   "source": [
    "b = sq.reshape(1,4,6)  # 2 matrix 4 row, 3 col\n",
    "print(b)"
   ]
  },
  {
   "attachments": {
    "image.png": {
     "image/png": "[encoded data removed]"
    }
   },
   "cell_type": "markdown",
   "metadata": {},
   "source": [
    "![image.png](attachment:image.png)"
   ]
  },
  {
   "cell_type": "code",
   "execution_count": 22,
   "metadata": {},
   "outputs": [
    {
     "name": "stdout",
     "output_type": "stream",
     "text": [
      "[1 2 3]\n",
      "(3L,)\n"
     ]
    }
   ],
   "source": [
    "## create 1 rank array\n",
    "import numpy as np\n",
    "arr_1 = np.array((1,2,3)) \n",
    "#arr_1 = np.array([1,2,3],ndmin=1) \n",
    "print(arr_1)\n",
    "print(arr_1.shape) ## gives the dimension of the array\n"
   ]
  },
  {
   "cell_type": "code",
   "execution_count": 19,
   "metadata": {},
   "outputs": [
    {
     "name": "stdout",
     "output_type": "stream",
     "text": [
      "[[1 2]\n",
      " [3 4]]\n"
     ]
    }
   ],
   "source": [
    "## create 2 rank array or more than 1 dim\n",
    "arr_2 = np.array([[1,2,3],[4,5,6]])\n",
    "#print(arr_2)\n",
    "#print(arr_2.shape)  ## row, col\n",
    "\n",
    "a = np.array([[1, 2], [3, 4]]) \n",
    "print(a)\n"
   ]
  },
  {
   "cell_type": "code",
   "execution_count": 24,
   "metadata": {},
   "outputs": [
    {
     "name": "stdout",
     "output_type": "stream",
     "text": [
      "[[1 2 3]\n",
      " [4 5 6]\n",
      " [7 8 9]]\n"
     ]
    }
   ],
   "source": [
    "arr_3 = np.array([[1,2,3],[4,5,6],[7,8,9]])\n",
    "print(arr_3)\n",
    "#print(arr_3.shape)  ## row, col"
   ]
  },
  {
   "cell_type": "code",
   "execution_count": 82,
   "metadata": {},
   "outputs": [
    {
     "name": "stdout",
     "output_type": "stream",
     "text": [
      "[[1. 1. 1. 1.]\n",
      " [1. 1. 1. 1.]\n",
      " [1. 1. 1. 1.]]\n",
      "(3, 4)\n",
      "[0 1 2 3]\n",
      "(4,)\n"
     ]
    },
    {
     "data": {
      "text/plain": [
       "array([[ 1.,  0., -1., -2.],\n",
       "       [ 1.,  0., -1., -2.],\n",
       "       [ 1.,  0., -1., -2.]])"
      ]
     },
     "execution_count": 82,
     "metadata": {},
     "output_type": "execute_result"
    }
   ],
   "source": [
    "# Import `numpy` as `np`\n",
    "import numpy as np\n",
    "\n",
    "# Initialize `x`\n",
    "x = np.ones((3,4))\n",
    "print(x)\n",
    "# Check shape of `x`\n",
    "print(x.shape)\n",
    "\n",
    "# Initialize `y`\n",
    "y = np.arange(4)\n",
    "print(y)\n",
    "# Check shape of `y`\n",
    "print(y.shape)\n",
    "\n",
    "# Subtract `x` and `y`\n",
    "x - y "
   ]
  },
  {
   "cell_type": "code",
   "execution_count": 2,
   "metadata": {},
   "outputs": [
    {
     "name": "stdout",
     "output_type": "stream",
     "text": [
      "[[ 1.  1.  1.  1.]\n",
      " [ 1.  1.  1.  1.]\n",
      " [ 1.  1.  1.  1.]]\n",
      "[[[ 0.15091653  0.39893579  0.66132155  0.68349711]\n",
      "  [ 0.9618812   0.35836312  0.64290501  0.54461722]\n",
      "  [ 0.13636937  0.19545617  0.7086508   0.12933952]]]\n",
      "[[[ 1.15091653  1.39893579  1.66132155  1.68349711]\n",
      "  [ 1.9618812   1.35836312  1.64290501  1.54461722]\n",
      "  [ 1.13636937  1.19545617  1.7086508   1.12933952]]]\n",
      "[29 26 23 48]\n",
      "<class 'numpy.ndarray'>\n"
     ]
    }
   ],
   "source": [
    "# Import `numpy` as `np`\n",
    "import numpy as np\n",
    "\n",
    "# Initialize `x` and `y`\n",
    "x = np.ones((3,4))\n",
    "y = np.random.random((1,3,4)) # 1 matrix , 3 rows and 4 cols\n",
    "print(x)\n",
    "print(y)\n",
    "# Add `x` and `y`\n",
    "print(x + y)\n",
    "z = np.random.randint(5,50,4) ## lower limit, # upper limit and # number of random values \n",
    "print(z) ## output nd array\n",
    "print(type(z))"
   ]
  },
  {
   "cell_type": "code",
   "execution_count": 46,
   "metadata": {},
   "outputs": [
    {
     "name": "stdout",
     "output_type": "stream",
     "text": [
      "3\n",
      "[18 24 36]\n"
     ]
    },
    {
     "data": {
      "text/plain": [
       "48"
      ]
     },
     "execution_count": 46,
     "metadata": {},
     "output_type": "execute_result"
    }
   ],
   "source": [
    "print(np.random.randint(4))\n",
    "print(np.random.randint(0,50,3)) # start, # end and # how many random values\n",
    "np.random.randint(0,50) # randomnly picks one value"
   ]
  },
  {
   "cell_type": "code",
   "execution_count": 66,
   "metadata": {},
   "outputs": [
    {
     "name": "stdout",
     "output_type": "stream",
     "text": [
      "x\n",
      "[[ 1.  1.  1.  1.]\n",
      " [ 1.  1.  1.  1.]\n",
      " [ 1.  1.  1.  1.]]\n",
      "y\n",
      "[[[ 0.15091653  0.39893579  0.66132155  0.68349711]\n",
      "  [ 0.9618812   0.35836312  0.64290501  0.54461722]\n",
      "  [ 0.13636937  0.19545617  0.7086508   0.12933952]]]\n",
      "out\n"
     ]
    },
    {
     "data": {
      "text/plain": [
       "array([[[ 1.15091653,  1.39893579,  1.66132155,  1.68349711],\n",
       "        [ 1.9618812 ,  1.35836312,  1.64290501,  1.54461722],\n",
       "        [ 1.13636937,  1.19545617,  1.7086508 ,  1.12933952]]])"
      ]
     },
     "execution_count": 66,
     "metadata": {},
     "output_type": "execute_result"
    }
   ],
   "source": [
    "# Add `x` and `y`\n",
    "print(\"x\")\n",
    "print(x)\n",
    "\n",
    "print(\"y\")\n",
    "print(y)\n",
    "\n",
    "print(\"out\")\n",
    "np.add(x,y)\n",
    "\n"
   ]
  },
  {
   "cell_type": "code",
   "execution_count": 70,
   "metadata": {},
   "outputs": [
    {
     "name": "stdout",
     "output_type": "stream",
     "text": [
      "x\n",
      "[[1. 1. 1. 1.]\n",
      " [1. 1. 1. 1.]\n",
      " [1. 1. 1. 1.]]\n",
      "y\n",
      "[[[0.30133695 0.16811415 0.10480722 0.74168802]\n",
      "  [0.54217288 0.74300742 0.90867838 0.87261026]\n",
      "  [0.76750042 0.72889603 0.66483192 0.78797056]]]\n",
      "out\n"
     ]
    },
    {
     "data": {
      "text/plain": [
       "array([[[0.69866305, 0.83188585, 0.89519278, 0.25831198],\n",
       "        [0.45782712, 0.25699258, 0.09132162, 0.12738974],\n",
       "        [0.23249958, 0.27110397, 0.33516808, 0.21202944]]])"
      ]
     },
     "execution_count": 70,
     "metadata": {},
     "output_type": "execute_result"
    }
   ],
   "source": [
    "# Sub `x` and `y`\n",
    "print(\"x\")\n",
    "print(x)\n",
    "\n",
    "print(\"y\")\n",
    "print(y)\n",
    "\n",
    "print(\"out\")\n",
    "np.add(x,y)\n",
    "np.subtract(x,y)"
   ]
  },
  {
   "cell_type": "code",
   "execution_count": 68,
   "metadata": {},
   "outputs": [
    {
     "name": "stdout",
     "output_type": "stream",
     "text": [
      "x\n",
      "[[ 1.  1.  1.  1.]\n",
      " [ 1.  1.  1.  1.]\n",
      " [ 1.  1.  1.  1.]]\n",
      "y\n",
      "[[[ 0.15091653  0.39893579  0.66132155  0.68349711]\n",
      "  [ 0.9618812   0.35836312  0.64290501  0.54461722]\n",
      "  [ 0.13636937  0.19545617  0.7086508   0.12933952]]]\n",
      "out\n"
     ]
    },
    {
     "data": {
      "text/plain": [
       "array([[[ 0.15091653,  0.39893579,  0.66132155,  0.68349711],\n",
       "        [ 0.9618812 ,  0.35836312,  0.64290501,  0.54461722],\n",
       "        [ 0.13636937,  0.19545617,  0.7086508 ,  0.12933952]]])"
      ]
     },
     "execution_count": 68,
     "metadata": {},
     "output_type": "execute_result"
    }
   ],
   "source": [
    "# multiply `x` and `y`\n",
    "print(\"x\")\n",
    "print(x)\n",
    "\n",
    "print(\"y\")\n",
    "print(y)\n",
    "\n",
    "print(\"out\")\n",
    "np.multiply(x,y)"
   ]
  },
  {
   "cell_type": "code",
   "execution_count": 69,
   "metadata": {},
   "outputs": [
    {
     "name": "stdout",
     "output_type": "stream",
     "text": [
      "x\n",
      "[[ 1.  1.  1.  1.]\n",
      " [ 1.  1.  1.  1.]\n",
      " [ 1.  1.  1.  1.]]\n",
      "y\n",
      "[[[ 0.15091653  0.39893579  0.66132155  0.68349711]\n",
      "  [ 0.9618812   0.35836312  0.64290501  0.54461722]\n",
      "  [ 0.13636937  0.19545617  0.7086508   0.12933952]]]\n",
      "out\n"
     ]
    },
    {
     "data": {
      "text/plain": [
       "array([[[ 6.6261795 ,  2.50666905,  1.51212372,  1.46306397],\n",
       "        [ 1.03962942,  2.79046569,  1.55543973,  1.83615201],\n",
       "        [ 7.33302481,  5.11623668,  1.41113224,  7.7315888 ]]])"
      ]
     },
     "execution_count": 69,
     "metadata": {},
     "output_type": "execute_result"
    }
   ],
   "source": [
    "# divide `x` and `y`\n",
    "print(\"x\")\n",
    "print(x)\n",
    "\n",
    "print(\"y\")\n",
    "print(y)\n",
    "\n",
    "print(\"out\")\n",
    "np.divide(x,y)"
   ]
  },
  {
   "cell_type": "code",
   "execution_count": 70,
   "metadata": {},
   "outputs": [
    {
     "name": "stdout",
     "output_type": "stream",
     "text": [
      "0\n"
     ]
    }
   ],
   "source": [
    "data = np.array([[ 10, 23,  0,  4,  5, 3, 2, 6]])\n",
    "min = np.min(data)  # min of  data\n",
    "print(min)\n"
   ]
  },
  {
   "cell_type": "code",
   "execution_count": 142,
   "metadata": {},
   "outputs": [
    {
     "name": "stdout",
     "output_type": "stream",
     "text": [
      "23\n"
     ]
    }
   ],
   "source": [
    "data = np.array([[ 10, 23,  1,  4,  5, 3, 2, 6]])\n",
    "max = np.max(data)  # min of  data\n",
    "print(max)\n"
   ]
  },
  {
   "cell_type": "code",
   "execution_count": 105,
   "metadata": {},
   "outputs": [
    {
     "name": "stdout",
     "output_type": "stream",
     "text": [
      "[1 2 3 5 5]\n"
     ]
    },
    {
     "data": {
      "text/plain": [
       "3.2"
      ]
     },
     "execution_count": 105,
     "metadata": {},
     "output_type": "execute_result"
    }
   ],
   "source": [
    "# mean \n",
    "\n",
    "a = np.array([1, 2, 3,5,5], dtype = int) \n",
    "print(a)\n",
    "a.mean()"
   ]
  },
  {
   "cell_type": "code",
   "execution_count": 71,
   "metadata": {},
   "outputs": [
    {
     "name": "stdout",
     "output_type": "stream",
     "text": [
      "4.5\n"
     ]
    }
   ],
   "source": [
    "data = np.array([[ 10, 23,  1,  4,  5, 3, 2, 6]])\n",
    "median = np.median(data)  # Median of  data\n",
    "print(median)\n"
   ]
  },
  {
   "cell_type": "code",
   "execution_count": 139,
   "metadata": {},
   "outputs": [
    {
     "name": "stdout",
     "output_type": "stream",
     "text": [
      "6.6661458129866915\n"
     ]
    }
   ],
   "source": [
    "data = np.array([[ 10, 23,  1,  4,  5, 3, 2, 6]])\n",
    "sd = np.std(data)  # sd of  data\n",
    "print(sd)\n"
   ]
  },
  {
   "cell_type": "code",
   "execution_count": 18,
   "metadata": {},
   "outputs": [
    {
     "name": "stdout",
     "output_type": "stream",
     "text": [
      "[[1 2 3]\n",
      " [4 5 6]\n",
      " [7 8 9]]\n",
      "(3, 3)\n"
     ]
    }
   ],
   "source": [
    "## create 3 rank array\n",
    "arr_3 = np.array([[1,2,3],[4,5,6],[7,8,9]])\n",
    "print(arr_3)\n",
    "print(arr_3.shape)  ## row, col"
   ]
  },
  {
   "cell_type": "code",
   "execution_count": 72,
   "metadata": {},
   "outputs": [
    {
     "name": "stdout",
     "output_type": "stream",
     "text": [
      "f [1 2]\n",
      "g [4 5]\n"
     ]
    },
    {
     "data": {
      "text/plain": [
       "14"
      ]
     },
     "execution_count": 72,
     "metadata": {},
     "output_type": "execute_result"
    }
   ],
   "source": [
    "## Linear algebra\n",
    "### Dot product: product of two arrays\n",
    "f = np.array([1,2])\n",
    "g = np.array([4,5])\n",
    "print(\"f\",f)\n",
    "print(\"g\",g)\n",
    "### 1*4+2*5\n",
    "np.dot(f, g)"
   ]
  },
  {
   "cell_type": "code",
   "execution_count": 77,
   "metadata": {},
   "outputs": [
    {
     "name": "stdout",
     "output_type": "stream",
     "text": [
      "[[[1 2 3 4 5]]]\n",
      "(1, 1, 5)\n",
      "3\n"
     ]
    }
   ],
   "source": [
    "# minimum dimensions \n",
    "a = np.array([1, 2, 3,4,5], ndmin = 3)  # this give row , col\n",
    "print(a)\n",
    "print(a.shape)\n",
    "print(a.ndim)"
   ]
  },
  {
   "cell_type": "code",
   "execution_count": 75,
   "metadata": {},
   "outputs": [
    {
     "name": "stdout",
     "output_type": "stream",
     "text": [
      "[1 2 3]\n"
     ]
    }
   ],
   "source": [
    "# dtype parameter \n",
    "import numpy as np \n",
    "a = np.array([1, 2, 3])  # int, float, str\n",
    "#default it pick float as data type\n",
    "print(a)"
   ]
  },
  {
   "cell_type": "code",
   "execution_count": 90,
   "metadata": {},
   "outputs": [
    {
     "name": "stdout",
     "output_type": "stream",
     "text": [
      "[1 2 3]\n"
     ]
    },
    {
     "data": {
      "text/plain": [
       "12"
      ]
     },
     "execution_count": 90,
     "metadata": {},
     "output_type": "execute_result"
    }
   ],
   "source": [
    "\n",
    "# dtype parameter \n",
    "import numpy as np \n",
    "## if int is specific, default value of int is 16 or 32\n",
    "a = np.array([1, 2, 3], dtype = int)  # int, float, str\n",
    "#default it pick float as data type\n",
    "print(a)\n",
    "a.nbytes #  3 elements * 4 bytes = 12 ; since 4 bytes = 32 bits"
   ]
  },
  {
   "cell_type": "code",
   "execution_count": null,
   "metadata": {
    "collapsed": true
   },
   "outputs": [],
   "source": [
    "# data types : default byte size float is 4 and int 2"
   ]
  },
  {
   "cell_type": "code",
   "execution_count": 40,
   "metadata": {},
   "outputs": [
    {
     "name": "stdout",
     "output_type": "stream",
     "text": [
      "int64\n",
      "[            1 2088867756654             3             4]\n",
      "<type 'numpy.ndarray'>\n",
      "32\n"
     ]
    }
   ],
   "source": [
    "# using array-scalar type \n",
    "## int starts from 8,16,32,64\n",
    "import numpy as np \n",
    "dt = np.dtype(np.int64) ## pass 8 bit integer \n",
    "print (dt)\n",
    "\n",
    "a = np.array([1,2088867756654,3,4], dtype=dt)  ## assign the new data type to the array created\n",
    "print(a)\n",
    "print(type(a))\n",
    "print(a.nbytes) ## check for the size \n",
    "## for int 8 bit and if the element is 4, total bytes allocated : 4 elements * 1 bytes = 4 bits\n",
    "## 16 : 2 bytes , 21 : 4 bytes"
   ]
  },
  {
   "cell_type": "code",
   "execution_count": 3,
   "metadata": {},
   "outputs": [
    {
     "name": "stdout",
     "output_type": "stream",
     "text": [
      "int8\n",
      "<class 'numpy.dtype'>\n"
     ]
    }
   ],
   "source": [
    "#int8, int16, int32, int64 can be replaced by equivalent string 'i1', 'i2','i4', etc. \n",
    "import numpy as np \n",
    "\n",
    "dt = np.dtype('i1')\n",
    "print(dt)\n",
    "print(type(dt))"
   ]
  },
  {
   "cell_type": "code",
   "execution_count": 43,
   "metadata": {},
   "outputs": [
    {
     "name": "stdout",
     "output_type": "stream",
     "text": [
      "[[1 2 3]\n",
      " [4 5 6]]\n",
      "[[1 2]\n",
      " [3 4]\n",
      " [5 6]]\n"
     ]
    }
   ],
   "source": [
    "# resize\n",
    "a = np.array([[1,2,3],[4,5,6]]) \n",
    "\n",
    "print(a)\n",
    "#print(b)\n",
    "\n",
    "b = a.reshape(3,2) \n",
    "print(b)"
   ]
  },
  {
   "cell_type": "code",
   "execution_count": 45,
   "metadata": {},
   "outputs": [
    {
     "name": "stdout",
     "output_type": "stream",
     "text": [
      "[[1 2 3]\n",
      " [4 5 6]\n",
      " [4 5 6]\n",
      " [4 5 6]]\n",
      "[[1 2 3 4]\n",
      " [5 6 4 5]\n",
      " [6 4 5 6]]\n"
     ]
    }
   ],
   "source": [
    "# resize a 4*3 matrix into 4*3\n",
    "a = np.array([[1,2,3],[4,5,6],[4,5,6],[4,5,6]]) \n",
    "\n",
    "print(a)\n",
    "#print(b)\n",
    "\n",
    "b = a.reshape(3,4) \n",
    "print(b)"
   ]
  },
  {
   "cell_type": "code",
   "execution_count": null,
   "metadata": {
    "collapsed": true
   },
   "outputs": [],
   "source": [
    "#  important object defined in NumPy is an N-dimensional array type called ndarray. \n",
    "# It describes the collection of items of the same type. \n",
    "# Items in the collection can be accessed using a zero-based index."
   ]
  },
  {
   "cell_type": "code",
   "execution_count": 91,
   "metadata": {},
   "outputs": [
    {
     "name": "stdout",
     "output_type": "stream",
     "text": [
      "[['' '' '']\n",
      " ['' '' '']\n",
      " ['' '' '']]\n"
     ]
    }
   ],
   "source": [
    "## create routines\n",
    "x = np.empty([3,3], dtype = str) \n",
    "print(x)\n",
    "\n",
    "\n"
   ]
  },
  {
   "cell_type": "code",
   "execution_count": 92,
   "metadata": {},
   "outputs": [
    {
     "name": "stdout",
     "output_type": "stream",
     "text": [
      "[[0 0 0]\n",
      " [0 0 0]\n",
      " [0 0 0]]\n"
     ]
    }
   ],
   "source": [
    "## create routines\n",
    "import numpy as np\n",
    "x = np.empty(([3,3]), dtype = int) \n",
    "print(x)"
   ]
  },
  {
   "cell_type": "code",
   "execution_count": 93,
   "metadata": {},
   "outputs": [
    {
     "name": "stdout",
     "output_type": "stream",
     "text": [
      "i8 : int8\n",
      "int16\n",
      "int32\n"
     ]
    }
   ],
   "source": [
    "\n",
    "## Data Type Object and dtype\n",
    "\n",
    "## create a datatype and use type as int16\n",
    "i8 = np.dtype(np.int8)\n",
    "print(\"i8 :\",i8)\n",
    "\n",
    "i16 = np.dtype(np.int16)\n",
    "i16\n",
    "print(i16)\n",
    "\n",
    "i32 = np.dtype(np.int32)\n",
    "i32\n",
    "print(i32)"
   ]
  },
  {
   "cell_type": "code",
   "execution_count": 91,
   "metadata": {},
   "outputs": [
    {
     "name": "stdout",
     "output_type": "stream",
     "text": [
      "[[3.4, 8.7, 9.9], [1.1, -7.8, -0.7], [4.1, 12.3, 4.8]]\n"
     ]
    }
   ],
   "source": [
    "# create a list\n",
    "lst = [ [3.4, 8.7, 9.9],[1.1, -7.8, -0.7],[4.1, 12.3, 4.8] ]\n",
    "lst\n",
    "type(lst)\n",
    "print(lst)"
   ]
  },
  {
   "cell_type": "code",
   "execution_count": 108,
   "metadata": {},
   "outputs": [
    {
     "name": "stdout",
     "output_type": "stream",
     "text": [
      "[[ 3  8  9]\n",
      " [ 1 -7  0]\n",
      " [ 4 12  4]]\n",
      "<built-in method item of numpy.ndarray object at 0x0000015BC57E6EE0>\n",
      "9\n",
      "[[ 3  8  9]\n",
      " [ 1 -7  0]\n",
      " [ 4 12  4]]\n",
      "18\n"
     ]
    }
   ],
   "source": [
    "import numpy as np\n",
    "\n",
    "A1 = np.array(lst, dtype=i8)\n",
    "print(A1)\n",
    "\n",
    "print(A1.item)\n",
    "print(A1.nbytes)\n",
    "\n",
    "A = np.array(lst, dtype=i16)\n",
    "print(A)\n",
    "print(A.nbytes)"
   ]
  },
  {
   "cell_type": "code",
   "execution_count": 125,
   "metadata": {},
   "outputs": [
    {
     "name": "stdout",
     "output_type": "stream",
     "text": [
      "12\n",
      "3\n",
      "[1 2 3]\n",
      "<class 'numpy.ndarray'>\n"
     ]
    }
   ],
   "source": [
    "a = [1,2,3]\n",
    "\n",
    "## int 32 , each byte 4 , int 16, then byte is 2\n",
    "aa = np.array(a, dtype=np.int32) \n",
    "print(aa.nbytes)\n",
    "print(aa.size)\n",
    "print(aa)\n",
    "print(type(aa))"
   ]
  },
  {
   "cell_type": "code",
   "execution_count": 131,
   "metadata": {},
   "outputs": [
    {
     "name": "stdout",
     "output_type": "stream",
     "text": [
      "\n",
      "The internal representation:\n",
      "[393 337 256]\n",
      "[(393,) (337,) (256,)]\n"
     ]
    }
   ],
   "source": [
    "## int32\n",
    "\n",
    "dt = np.dtype([('id', np.int32)])\n",
    "dt  # i - integer , 4 is bytes, < encoding with little endian , > encoding with big endian, no prefix native byte ordering\n",
    "type(dt)\n",
    "\n",
    "#x = np.array([(393,), (337,), (256,)], dtype=dt)\n",
    "#x = np.array([(393), (337), (256)], dtype=dt)\n",
    "x = np.array([393, 337, 256], dtype=dt)\n",
    "#print(x)\n",
    "print(\"\\nThe internal representation:\")\n",
    "#print(repr(x))\n",
    "print(x['id'])\n",
    "print(x)\n"
   ]
  },
  {
   "cell_type": "code",
   "execution_count": null,
   "metadata": {
    "collapsed": true
   },
   "outputs": [],
   "source": [
    "# create a data structure"
   ]
  },
  {
   "cell_type": "code",
   "execution_count": 24,
   "metadata": {},
   "outputs": [
    {
     "name": "stdout",
     "output_type": "stream",
     "text": [
      "[('age', 'i1')]\n"
     ]
    }
   ],
   "source": [
    "# first create structured data type \n",
    "import numpy as np \n",
    "dt = np.dtype([('age',np.int8)]) \n",
    "print( dt )"
   ]
  },
  {
   "cell_type": "code",
   "execution_count": 39,
   "metadata": {},
   "outputs": [
    {
     "name": "stdout",
     "output_type": "stream",
     "text": [
      "[[(10,) (20,) (30,)]]\n",
      "[[10 20 30]]\n"
     ]
    }
   ],
   "source": [
    "dt = np.dtype([('age',np.int64)]) \n",
    "a = np.array([[10,20,30]], dtype = dt) \n",
    "#print(a)\n",
    "print(a)\n",
    "print(a['age'])"
   ]
  },
  {
   "cell_type": "code",
   "execution_count": 6,
   "metadata": {},
   "outputs": [
    {
     "name": "stdout",
     "output_type": "stream",
     "text": [
      "[('name', '<U30'), ('age', '<i8'), ('marks', '<f8')]\n",
      "[(u'abc', 21,  50.), (u'xyz', 18,  75.)]\n",
      "[ 50.  75.]\n"
     ]
    }
   ],
   "source": [
    "student = np.dtype([('name','U30'), ('age', 'i8'), ('marks', 'f8')]) \n",
    "print(student)\n",
    "\n",
    "a = np.array([('abc', 21, 50),('xyz', 18, 75)], dtype = student) \n",
    "print(list(a))\n",
    "\n",
    "print(a['marks'])"
   ]
  },
  {
   "cell_type": "code",
   "execution_count": 37,
   "metadata": {},
   "outputs": [
    {
     "name": "stdout",
     "output_type": "stream",
     "text": [
      "[(393.1,) (337. ,) (256.2,)]\n",
      "[393.1 337.  256.2]\n",
      "(3,)\n"
     ]
    }
   ],
   "source": [
    "\n",
    "#float\n",
    "dt = np.dtype([('density', 'float')])\n",
    "dt #float and 8  byte\n",
    "type(dt)\n",
    "#create a data type and use it in the array\n",
    "x = np.array([(393.1,), (337,), (256.2,)], dtype=dt)\n",
    "print(x)\n",
    "print(x['density'])\n",
    "print(x.shape)"
   ]
  },
  {
   "cell_type": "code",
   "execution_count": null,
   "metadata": {
    "collapsed": true
   },
   "outputs": [],
   "source": [
    "## Numpy to create array using function"
   ]
  },
  {
   "cell_type": "code",
   "execution_count": 30,
   "metadata": {},
   "outputs": [
    {
     "name": "stdout",
     "output_type": "stream",
     "text": [
      "[[0. 0.]\n",
      " [0. 0.]]\n"
     ]
    }
   ],
   "source": [
    "a = np.zeros((2,2))   # Create an array of all zeros and values as float\n",
    "print(a)  "
   ]
  },
  {
   "cell_type": "code",
   "execution_count": 95,
   "metadata": {},
   "outputs": [
    {
     "name": "stdout",
     "output_type": "stream",
     "text": [
      "[[0 0]\n",
      " [0 0]]\n"
     ]
    }
   ],
   "source": [
    "a = np.zeros((2,2),dtype = int)   # Create an array of all zeros,value as int\n",
    "print(a) "
   ]
  },
  {
   "cell_type": "code",
   "execution_count": 96,
   "metadata": {},
   "outputs": [
    {
     "name": "stdout",
     "output_type": "stream",
     "text": [
      "[[1. 1.]]\n"
     ]
    }
   ],
   "source": [
    "\n",
    "b = np.ones((1,2))    # Create an array of all ones\n",
    "print(b)"
   ]
  },
  {
   "cell_type": "code",
   "execution_count": 94,
   "metadata": {},
   "outputs": [
    {
     "name": "stdout",
     "output_type": "stream",
     "text": [
      "[[1 1]\n",
      " [1 1]]\n"
     ]
    }
   ],
   "source": [
    "b = np.ones((2,2),dtype = int)    # Create an array of all ones, int values\n",
    "print(b)\n"
   ]
  },
  {
   "cell_type": "code",
   "execution_count": 31,
   "metadata": {},
   "outputs": [
    {
     "name": "stdout",
     "output_type": "stream",
     "text": [
      "[[7 7 7 7]\n",
      " [7 7 7 7]\n",
      " [7 7 7 7]]\n"
     ]
    }
   ],
   "source": [
    "c = np.full((3,4), 7)  # Create a constant array\n",
    "print(c) "
   ]
  },
  {
   "cell_type": "code",
   "execution_count": null,
   "metadata": {
    "collapsed": true
   },
   "outputs": [],
   "source": []
  },
  {
   "cell_type": "code",
   "execution_count": 32,
   "metadata": {},
   "outputs": [
    {
     "name": "stdout",
     "output_type": "stream",
     "text": [
      "[[1. 0. 0. 0. 0.]\n",
      " [0. 1. 0. 0. 0.]\n",
      " [0. 0. 1. 0. 0.]\n",
      " [0. 0. 0. 1. 0.]\n",
      " [0. 0. 0. 0. 1.]]\n"
     ]
    }
   ],
   "source": [
    "d = np.eye(5)         # Create a 2x2 identity matrix\n",
    "print(d) "
   ]
  },
  {
   "cell_type": "code",
   "execution_count": 100,
   "metadata": {},
   "outputs": [
    {
     "name": "stdout",
     "output_type": "stream",
     "text": [
      "[[1. 0. 0.]\n",
      " [0. 1. 0.]\n",
      " [0. 0. 1.]]\n"
     ]
    }
   ],
   "source": [
    "d = np.eye(3)         # Create a 3x3 identity matrix\n",
    "print(d) "
   ]
  },
  {
   "cell_type": "code",
   "execution_count": 101,
   "metadata": {},
   "outputs": [
    {
     "name": "stdout",
     "output_type": "stream",
     "text": [
      "[[0.04835237 0.37043549]\n",
      " [0.80750611 0.07817271]]\n"
     ]
    }
   ],
   "source": [
    "\n",
    "e = np.random.random((2,2))  # Create an array filled with random values\n",
    "print(e) \n"
   ]
  },
  {
   "cell_type": "code",
   "execution_count": 102,
   "metadata": {},
   "outputs": [
    {
     "name": "stdout",
     "output_type": "stream",
     "text": [
      "[0 1 2 3 4]\n"
     ]
    }
   ],
   "source": [
    "a = np.arange(5)\n",
    "print(a)"
   ]
  },
  {
   "cell_type": "code",
   "execution_count": 34,
   "metadata": {},
   "outputs": [
    {
     "name": "stdout",
     "output_type": "stream",
     "text": [
      "[[[ 0  1  2]\n",
      "  [ 3  4  5]\n",
      "  [ 6  7  8]\n",
      "  [ 9 10 11]]\n",
      "\n",
      " [[12 13 14]\n",
      "  [15 16 17]\n",
      "  [18 19 20]\n",
      "  [21 22 23]]]\n"
     ]
    }
   ],
   "source": [
    "# this is one dimensional array \n",
    "import numpy as np \n",
    "a = np.arange(24) \n",
    "a.ndim  \n",
    "\n",
    "\n",
    "# now reshape it \n",
    "b = a.reshape(2,4,3) \n",
    "print(b)  # 2 matrix , 4 rows and 3 col\n",
    "# b is having three dimensions"
   ]
  },
  {
   "cell_type": "code",
   "execution_count": 37,
   "metadata": {},
   "outputs": [
    {
     "name": "stdout",
     "output_type": "stream",
     "text": [
      "[[[ 0  1  2]\n",
      "  [ 3  4  5]\n",
      "  [ 6  7  8]]\n",
      "\n",
      " [[ 9 10 11]\n",
      "  [12 13 14]\n",
      "  [15 16 17]]]\n"
     ]
    }
   ],
   "source": [
    "# convert a list into 3*3 matrix\n",
    "a = np.arange(18) \n",
    "a.ndim  \n",
    "\n",
    "\n",
    "# now reshape it \n",
    "b = a.reshape(2,3,3) \n",
    "print(b) \n",
    "# b is having three dimensions"
   ]
  },
  {
   "cell_type": "code",
   "execution_count": 103,
   "metadata": {},
   "outputs": [
    {
     "name": "stdout",
     "output_type": "stream",
     "text": [
      "[0. 1. 2. 3. 4.]\n"
     ]
    }
   ],
   "source": [
    "a = np.arange(5,dtype = float)\n",
    "print(a)"
   ]
  },
  {
   "cell_type": "code",
   "execution_count": 104,
   "metadata": {},
   "outputs": [
    {
     "name": "stdout",
     "output_type": "stream",
     "text": [
      "[ 0  5 10 15]\n"
     ]
    }
   ],
   "source": [
    "a = np.arange(0,20,5)\n",
    "print(a)"
   ]
  },
  {
   "cell_type": "code",
   "execution_count": 42,
   "metadata": {},
   "outputs": [
    {
     "name": "stdout",
     "output_type": "stream",
     "text": [
      "[10 12 14 16 18]\n"
     ]
    }
   ],
   "source": [
    "x = np.arange(10,20,2) \n",
    "print(x)"
   ]
  },
  {
   "cell_type": "markdown",
   "metadata": {},
   "source": [
    "# Data Slicing"
   ]
  },
  {
   "cell_type": "code",
   "execution_count": 7,
   "metadata": {},
   "outputs": [
    {
     "name": "stdout",
     "output_type": "stream",
     "text": [
      "slice(2, 7, 2)\n",
      "[2 4 6]\n"
     ]
    }
   ],
   "source": [
    "a = np.arange(10)  ## create a range\n",
    "s = slice(2,7,2)  ## specify the index to select the data\n",
    "print(s)\n",
    "print(a[s]) # get the values of the index specified variable"
   ]
  },
  {
   "cell_type": "code",
   "execution_count": 50,
   "metadata": {},
   "outputs": [
    {
     "name": "stdout",
     "output_type": "stream",
     "text": [
      "[2 4 6]\n"
     ]
    }
   ],
   "source": [
    "a = np.arange(10) \n",
    "b = a[2:7:2] \n",
    "print(b)"
   ]
  },
  {
   "cell_type": "code",
   "execution_count": 106,
   "metadata": {},
   "outputs": [
    {
     "name": "stdout",
     "output_type": "stream",
     "text": [
      "5\n"
     ]
    }
   ],
   "source": [
    "# get only selected value\n",
    "a = np.arange(10) \n",
    "b = a[5] \n",
    "print(b)"
   ]
  },
  {
   "cell_type": "code",
   "execution_count": 107,
   "metadata": {},
   "outputs": [
    {
     "name": "stdout",
     "output_type": "stream",
     "text": [
      "[2 3 4 5 6 7 8 9]\n"
     ]
    }
   ],
   "source": [
    "#values from start till rest\n",
    "a = np.arange(10) \n",
    "b = a[2:] \n",
    "print(b)"
   ]
  },
  {
   "cell_type": "code",
   "execution_count": 108,
   "metadata": {},
   "outputs": [
    {
     "name": "stdout",
     "output_type": "stream",
     "text": [
      "[2 3 4]\n"
     ]
    }
   ],
   "source": [
    "# slice items between indexes \n",
    "a = np.arange(10) \n",
    "print(a[2:5])"
   ]
  },
  {
   "cell_type": "code",
   "execution_count": 109,
   "metadata": {},
   "outputs": [
    {
     "name": "stdout",
     "output_type": "stream",
     "text": [
      "[2 4 6]\n"
     ]
    }
   ],
   "source": [
    "#slice item with start, end and interval\n",
    "a = np.arange(10) \n",
    "b = a[2:7:2]  ## start , end position and interval\n",
    "print(b)"
   ]
  },
  {
   "cell_type": "code",
   "execution_count": 110,
   "metadata": {},
   "outputs": [
    {
     "name": "stdout",
     "output_type": "stream",
     "text": [
      "[ 5  8 11 14]\n"
     ]
    }
   ],
   "source": [
    "a = np.arange(15) \n",
    "b = a[5:15:3]  ## start , end position and interval\n",
    "print(b)"
   ]
  },
  {
   "cell_type": "code",
   "execution_count": 62,
   "metadata": {},
   "outputs": [
    {
     "name": "stdout",
     "output_type": "stream",
     "text": [
      "[[1 2 3]\n",
      " [3 4 5]\n",
      " [4 5 6]]\n",
      "Now we will slice the array from the index a[1:]\n",
      "[[3 4 5]\n",
      " [4 5 6]]\n"
     ]
    }
   ],
   "source": [
    "\n",
    "a = np.array([[1,2,3],[3,4,5],[4,5,6]]) \n",
    "print(a)\n",
    "# slice items starting from index\n",
    "print( 'Now we will slice the array from the index a[1:]' )\n",
    "print( a[1:])"
   ]
  },
  {
   "cell_type": "code",
   "execution_count": 65,
   "metadata": {},
   "outputs": [
    {
     "name": "stdout",
     "output_type": "stream",
     "text": [
      "Our array is:\n",
      "[[1 2 3]\n",
      " [3 4 5]\n",
      " [4 5 6]]\n",
      "\n",
      "\n",
      "The items in the second column are:\n",
      "[2 4 5]\n",
      "\n",
      "\n",
      "The items in the second row are:\n",
      "[3 4 5]\n",
      "\n",
      "\n",
      "The items column 1 onwards are:\n",
      "[[2 3]\n",
      " [4 5]\n",
      " [5 6]]\n"
     ]
    }
   ],
   "source": [
    "a = np.array([[1,2,3],[3,4,5],[4,5,6]]) \n",
    "\n",
    "print('Our array is:' )\n",
    "print(a)\n",
    "print('\\n')  \n",
    "\n",
    "# this returns array of items in the second column \n",
    "print('The items in the second column are:' )\n",
    "print( a[...,1] )\n",
    "print( '\\n'  )\n",
    "\n",
    "# Now we will slice all items from the second row \n",
    "print( 'The items in the second row are:' )\n",
    "print( a[1,...] )\n",
    "print( '\\n'  )\n",
    "\n",
    "# Now we will slice all items from column 1 onwards \n",
    "print( 'The items column 1 onwards are:' )\n",
    "print( a[...,1:])\n"
   ]
  },
  {
   "cell_type": "markdown",
   "metadata": {},
   "source": [
    "# Create own datatype"
   ]
  },
  {
   "cell_type": "code",
   "execution_count": 95,
   "metadata": {},
   "outputs": [
    {
     "name": "stdout",
     "output_type": "stream",
     "text": [
      "<class 'numpy.dtype'>\n",
      "[('country', 'S20'), ('density', '<i4'), ('area', '<i4'), ('population', '<i4')]\n"
     ]
    }
   ],
   "source": [
    "## sample dataset to create an array\n",
    "\n",
    "dt = np.dtype([('country', 'S20'), ('density', 'i4'), ('area', 'i4'), ('population', 'i4')])\n",
    "dt ## data type is created\n",
    "print(type(dt))\n",
    "print(dt)"
   ]
  },
  {
   "cell_type": "code",
   "execution_count": 46,
   "metadata": {},
   "outputs": [
    {
     "name": "stdout",
     "output_type": "stream",
     "text": [
      "<class 'numpy.ndarray'>\n",
      "[(b'Netherlands', 393,  41526, 16928800)\n",
      " (b'Belgium', 337,  30510, 11007020)\n",
      " (b'United Kingdom', 256, 243610, 62262000)\n",
      " (b'Germany', 233, 357021, 81799600)\n",
      " (b'Liechtenstein', 205,    160,    32842)\n",
      " (b'Italy', 192, 301230, 59715625) (b'Switzerland', 177,  41290,  7301994)\n",
      " (b'Luxembourg', 173,   2586,   512000) (b'France', 111, 547030, 63601002)\n",
      " (b'Austria',  97,  83858,  8169929) (b'Greece',  81, 131940, 11606813)\n",
      " (b'Ireland',  65,  70280,  4581269) (b'Sweden',  20, 449964,  9515744)\n",
      " (b'Finland',  16, 338424,  5410233) (b'Norway',  13, 385252,  5033675)]\n"
     ]
    }
   ],
   "source": [
    "## create an array with the data type created above\n",
    "\n",
    "##try to change numeric for string, code iwll throw an error\n",
    "population_table = np.array([\n",
    "    ('Netherlands', 393, 41526, 16928800),\n",
    "    ('Belgium', 337, 30510, 11007020),\n",
    "    ('United Kingdom', 256, 243610, 62262000),\n",
    "    ('Germany', 233, 357021, 81799600),\n",
    "    ('Liechtenstein', 205, 160, 32842),\n",
    "    ('Italy', 192, 301230, 59715625),\n",
    "    ('Switzerland', 177, 41290, 7301994),\n",
    "    ('Luxembourg', 173, 2586, 512000),\n",
    "    ('France', 111, 547030, 63601002),\n",
    "    ('Austria', 97, 83858, 8169929),\n",
    "    ('Greece', 81, 131940, 11606813),\n",
    "    ('Ireland', 65, 70280, 4581269),\n",
    "    ('Sweden', 20, 449964, 9515744),\n",
    "    ('Finland', 16, 338424, 5410233),\n",
    "    ('Norway', 13, 385252, 5033675)],\n",
    "    dtype=dt)\n",
    "population_table\n",
    "print(type(population_table))\n",
    "print(population_table)"
   ]
  },
  {
   "cell_type": "code",
   "execution_count": 47,
   "metadata": {},
   "outputs": [
    {
     "name": "stdout",
     "output_type": "stream",
     "text": [
      "[(b'Netherlands', 393,  41526, 16928800)\n",
      " (b'Belgium', 337,  30510, 11007020)\n",
      " (b'United Kingdom', 256, 243610, 62262000)\n",
      " (b'Germany', 233, 357021, 81799600)]\n",
      "[(b'Liechtenstein', 205,    160,    32842)\n",
      " (b'Italy', 192, 301230, 59715625) (b'Switzerland', 177,  41290,  7301994)\n",
      " (b'Luxembourg', 173,   2586,   512000) (b'France', 111, 547030, 63601002)\n",
      " (b'Austria',  97,  83858,  8169929) (b'Greece',  81, 131940, 11606813)\n",
      " (b'Ireland',  65,  70280,  4581269) (b'Sweden',  20, 449964,  9515744)\n",
      " (b'Finland',  16, 338424,  5410233) (b'Norway',  13, 385252,  5033675)]\n",
      "[16928800 11007020 62262000 81799600    32842 59715625  7301994   512000\n",
      " 63601002  8169929 11606813  4581269  9515744  5410233  5033675]\n",
      "[ 41526  30510 243610 357021    160 301230  41290   2586 547030  83858\n",
      " 131940  70280 449964 338424 385252]\n",
      "[b'Netherlands' b'Belgium' b'United Kingdom' b'Germany' b'Liechtenstein'\n",
      " b'Italy' b'Switzerland' b'Luxembourg' b'France' b'Austria' b'Greece'\n",
      " b'Ireland' b'Sweden' b'Finland' b'Norway']\n",
      "[b'Netherlands' b'Belgium' b'United Kingdom' b'Germany' b'Liechtenstein']\n"
     ]
    }
   ],
   "source": [
    "\n",
    "## data slicing\n",
    "print(population_table[:4]) #  select from 1st till 4th row\n",
    "print(population_table[4:])  # row after 4 till last\n",
    "print(population_table['population'])\n",
    "print(population_table['area'])\n",
    "print(population_table['country'])\n",
    "print(population_table['country'][:5]) # select first till 5 row of area data alone"
   ]
  },
  {
   "cell_type": "code",
   "execution_count": 48,
   "metadata": {
    "collapsed": true
   },
   "outputs": [],
   "source": [
    "## save the structured array to a file\n",
    "\n",
    "np.savetxt(\"population_table.csv\", population_table, fmt=\"%s;%d;%d;%d\",  delimiter=\";\")\n",
    "\n"
   ]
  },
  {
   "cell_type": "code",
   "execution_count": null,
   "metadata": {
    "collapsed": true
   },
   "outputs": [],
   "source": [
    "## example 1\n",
    "\n",
    "# create a 3 column array with variables as item which is tring, count which is int, amount which is float\n",
    "# use the data type and create a new array called basket\n",
    "## load 6 records with sample data\n",
    "# select all the data and display\n",
    "# select only values for count\n",
    "# select only first 2 values of the count columns"
   ]
  },
  {
   "cell_type": "code",
   "execution_count": 199,
   "metadata": {},
   "outputs": [
    {
     "name": "stdout",
     "output_type": "stream",
     "text": [
      "[(b'chocolate',  1,  200.2) (b'icecream',  8,  600.4)\n",
      " (b'fruits',  3,  400. ) (b'cookies', 13, 1400.4)]\n",
      "[ 1  8  3 13]\n",
      "[(b'icecream', 8, 600.4)]\n",
      "[ 1  8  3 13]\n",
      "[1 8]\n",
      "[b'chocolate' b'icecream' b'fruits' b'cookies']\n"
     ]
    }
   ],
   "source": [
    "# create a new datatype for arrary basket\n",
    "dt = np.dtype([('Item','S20'),('Count','i4'),('AMount','float')])\n",
    "dt\n",
    "\n",
    "basket = np.array([\n",
    "        ('chocolate',1,200.2),\n",
    "        ('icecream',8,600.4),\n",
    "        ('fruits',3,400),\n",
    "        ('cookies',13,1400.40)],\n",
    "        dtype=dt\n",
    ")\n",
    "basket\n",
    "print(basket) # display the full array\n",
    "print(basket['Count']) ## display only count variable from the array\n",
    "\n",
    "print(basket[1:2])\n",
    "\n",
    "print(basket['Count'])\n",
    "\n",
    "print(basket['Count'][:2]) # display count and values from first to second\n",
    "\n",
    "print(basket['Item'])\n"
   ]
  },
  {
   "cell_type": "code",
   "execution_count": null,
   "metadata": {
    "collapsed": true
   },
   "outputs": [],
   "source": [
    "## example 2\n",
    "\n",
    "# create a data type with hr, min and sec and all three be int\n",
    "# use the data type and create an array dt_time with 3 values in it\n",
    "# slice only the hr values\n",
    "# slice only the hr values from 2nd till all"
   ]
  },
  {
   "cell_type": "code",
   "execution_count": null,
   "metadata": {
    "collapsed": true
   },
   "outputs": [],
   "source": [
    "dt = np.dtype([('hr', int),('min', int),('sec',int)])\n",
    "dt\n",
    "\n",
    "dt_time = np.array([\n",
    "        (1,3,43),(5,23,56),(12,00,1)] ,dtype = dt)\n",
    "dt_time\n",
    "dt_time['hr']\n",
    "dt_time['hr'][2:]"
   ]
  },
  {
   "cell_type": "code",
   "execution_count": 200,
   "metadata": {},
   "outputs": [
    {
     "name": "stdout",
     "output_type": "stream",
     "text": [
      "[((11, 12, 13), 23.8) ((12,  1, 35), 32.1)]\n",
      "[((12,  1, 35), 32.1 ) ((12, 19, 60), 21.32)]\n",
      "[((11, 12, 13), 23.8) ((12,  1, 35), 32.1)]\n",
      "[11 12 12]\n",
      "[23.8  32.1  21.32]\n"
     ]
    }
   ],
   "source": [
    "## Nested datatype or complex data type\n",
    "\n",
    "dt = np.dtype([('time',[('hr',int),('min',int),('sec',int)]),('temp',float)])\n",
    "dt\n",
    "\n",
    "time_temp = np.array([\n",
    "                    ((11,12,13),23.8), ((12,1,35),32.1),((12,19,60),21.32)\n",
    "                        ], dtype = dt)\n",
    "#print(time_temp)\n",
    "#print(time_temp['time'])\n",
    "#print(time_temp[:])\n",
    "print(time_temp[:2])\n",
    "print(time_temp[1:])\n",
    "print(time_temp[:-1])\n",
    "print(time_temp['time']['hr'])\n",
    "print(time_temp['temp'])"
   ]
  },
  {
   "cell_type": "markdown",
   "metadata": {},
   "source": [
    "# Numerical operations"
   ]
  },
  {
   "cell_type": "code",
   "execution_count": 9,
   "metadata": {},
   "outputs": [
    {
     "name": "stdout",
     "output_type": "stream",
     "text": [
      "[ 20.1  20.8  21.9  22.5  22.7  22.3  21.8  21.2  20.9  20.1]\n",
      "(10L,)\n"
     ]
    },
    {
     "data": {
      "text/plain": [
       "numpy.ndarray"
      ]
     },
     "execution_count": 9,
     "metadata": {},
     "output_type": "execute_result"
    }
   ],
   "source": [
    "## List is created\n",
    "inp = [20.1, 20.8, 21.9, 22.5, 22.7, 22.3, 21.8, 21.2, 20.9, 20.1]\n",
    "type(inp)  \n",
    "\n",
    "##convert the values into one dim array\n",
    "out = np.array(inp)\n",
    "print(out)\n",
    "print(out.shape) # checl for the dim\n",
    "type(out) # check for the datatype\n"
   ]
  },
  {
   "cell_type": "code",
   "execution_count": 10,
   "metadata": {},
   "outputs": [
    {
     "data": {
      "text/plain": [
       "array([ 68.18,  69.44,  71.42,  72.5 ,  72.86,  72.14,  71.24,  70.16,\n",
       "        69.62,  68.18])"
      ]
     },
     "execution_count": 10,
     "metadata": {},
     "output_type": "execute_result"
    }
   ],
   "source": [
    "## simple math operations, math is done with each element\n",
    "out+2\n",
    "out-2\n",
    "out*2\n",
    "out**2\n",
    "out%2\n",
    "out/2\n",
    "out//2\n",
    "## *, / , + , -\n",
    "(out * 9 / 5 + 32)"
   ]
  },
  {
   "cell_type": "code",
   "execution_count": 62,
   "metadata": {
    "collapsed": true
   },
   "outputs": [],
   "source": [
    "## arithemetic operation  with 2 array"
   ]
  },
  {
   "cell_type": "code",
   "execution_count": 19,
   "metadata": {},
   "outputs": [
    {
     "name": "stdout",
     "output_type": "stream",
     "text": [
      "[[1 2 3]\n",
      " [4 5 5]]\n",
      "\n",
      "\n",
      "[[ 1.  1.]\n",
      " [ 1.  1.]\n",
      " [ 1.  1.]]\n"
     ]
    },
    {
     "data": {
      "text/plain": [
       "array([[  6.,   6.],\n",
       "       [ 14.,  14.]])"
      ]
     },
     "execution_count": 19,
     "metadata": {},
     "output_type": "execute_result"
    }
   ],
   "source": [
    "a =  np.array([ [1,2,3], [4,5,5]])\n",
    "print(a)\n",
    "print(\"\\n\")\n",
    "\n",
    "b = np.ones((3,2))\n",
    "print(b)\n",
    "\n",
    "np.dot(a,b)"
   ]
  },
  {
   "cell_type": "code",
   "execution_count": 65,
   "metadata": {},
   "outputs": [
    {
     "name": "stdout",
     "output_type": "stream",
     "text": [
      "[[1 2 3]\n",
      " [4 5 6]\n",
      " [7 8 9]]\n",
      "[[1. 1. 1.]\n",
      " [1. 1. 1.]\n",
      " [1. 1. 1.]]\n"
     ]
    }
   ],
   "source": [
    "arr1  = np.array( [ [1,2,3], [4,5,6], [7,8,9] ])\n",
    "print(arr1)\n",
    "\n",
    "arr2 = np.ones((3,3))\n",
    "print(arr2)"
   ]
  },
  {
   "cell_type": "code",
   "execution_count": 67,
   "metadata": {},
   "outputs": [
    {
     "data": {
      "text/plain": [
       "array([[ 2.,  3.,  4.],\n",
       "       [ 5.,  6.,  7.],\n",
       "       [ 8.,  9., 10.]])"
      ]
     },
     "execution_count": 67,
     "metadata": {},
     "output_type": "execute_result"
    }
   ],
   "source": [
    "## add\n",
    "arr1 + arr2\n"
   ]
  },
  {
   "cell_type": "code",
   "execution_count": null,
   "metadata": {
    "collapsed": true
   },
   "outputs": [],
   "source": [
    "## sub\n",
    "arr1 - arr2\n",
    "## mul\n",
    "arr1 * arr2\n"
   ]
  },
  {
   "cell_type": "code",
   "execution_count": 68,
   "metadata": {},
   "outputs": [
    {
     "data": {
      "text/plain": [
       "array([[ 6.,  6.,  6.],\n",
       "       [15., 15., 15.],\n",
       "       [24., 24., 24.]])"
      ]
     },
     "execution_count": 68,
     "metadata": {},
     "output_type": "execute_result"
    }
   ],
   "source": [
    "# dot\n",
    "np.dot(arr1,arr2)"
   ]
  },
  {
   "cell_type": "code",
   "execution_count": 69,
   "metadata": {},
   "outputs": [
    {
     "name": "stdout",
     "output_type": "stream",
     "text": [
      "The shapes:\n",
      "(3, 3, 3)\n",
      "(3, 3, 3)\n",
      "(3, 3, 3, 3)\n",
      "\n",
      "The Result R:\n",
      "[[[[14 19 15]\n",
      "   [15 15  9]\n",
      "   [13  9 18]]\n",
      "\n",
      "  [[18 24 20]\n",
      "   [20 20 12]\n",
      "   [18 12 22]]\n",
      "\n",
      "  [[15 18 22]\n",
      "   [22 13 12]\n",
      "   [21  9 14]]]\n",
      "\n",
      "\n",
      " [[[16 21 19]\n",
      "   [19 16 11]\n",
      "   [17 10 19]]\n",
      "\n",
      "  [[25 32 32]\n",
      "   [32 23 18]\n",
      "   [29 15 28]]\n",
      "\n",
      "  [[13 18 12]\n",
      "   [12 18  8]\n",
      "   [11 10 17]]]\n",
      "\n",
      "\n",
      " [[[11 14 14]\n",
      "   [14 11  8]\n",
      "   [13  7 12]]\n",
      "\n",
      "  [[17 23 19]\n",
      "   [19 16 11]\n",
      "   [16 10 22]]\n",
      "\n",
      "  [[19 25 23]\n",
      "   [23 17 13]\n",
      "   [20 11 23]]]]\n"
     ]
    }
   ],
   "source": [
    "## 3 dim array\n",
    "\n",
    "X = np.array( [[[3, 1, 2],\n",
    "                [4, 2, 2],\n",
    "                [2, 4, 1]],\n",
    "               [[3, 2, 2],\n",
    "                [4, 4, 3],\n",
    "                [4, 1, 1]],\n",
    "               [[2, 2, 1],\n",
    "                [3, 1, 3],\n",
    "                [3, 2, 3]]])\n",
    "Y = np.array( [[[2, 3, 1],\n",
    "                [2, 2, 4],\n",
    "                [3, 4, 4]],\n",
    "            \n",
    "               [[1, 4, 1],\n",
    "                [4, 1, 2],\n",
    "                [4, 1, 2]],\n",
    "            \n",
    "               [[1, 2, 3],\n",
    "                [4, 1, 1],\n",
    "                [3, 1, 4]]])\n",
    "R = np.dot(X, Y)\n",
    "print(\"The shapes:\")\n",
    "print(X.shape)\n",
    "print(Y.shape)\n"
   ]
  },
  {
   "cell_type": "code",
   "execution_count": 71,
   "metadata": {},
   "outputs": [
    {
     "name": "stdout",
     "output_type": "stream",
     "text": [
      "[[1 2 3]\n",
      " [2 2 2]\n",
      " [3 3 3]]\n",
      "[[ 3  2  1]\n",
      " [ 1  2  3]\n",
      " [-1 -2 -3]]\n",
      "[[ 3  4  3]\n",
      " [ 2  4  6]\n",
      " [-3 -6 -9]]\n"
     ]
    }
   ],
   "source": [
    "\n",
    "## 2 min array\n",
    "\n",
    "A = np.array([ [1, 2, 3], [2, 2, 2], [3, 3, 3] ])\n",
    "print(A)\n",
    "B = np.array([ [3, 2, 1], [1, 2, 3], [-1, -2, -3] ])\n",
    "print(B)\n",
    "R = A * B ## wrong\n",
    "print(R)\n"
   ]
  },
  {
   "cell_type": "code",
   "execution_count": 24,
   "metadata": {},
   "outputs": [
    {
     "name": "stdout",
     "output_type": "stream",
     "text": [
      "[[11 12 13]\n",
      " [21 22 23]\n",
      " [31 32 33]]\n",
      "[[ 11 102  13]\n",
      " [201  22 203]\n",
      " [ 31  32 303]]\n",
      "[[ True False  True]\n",
      " [False  True False]\n",
      " [ True  True False]]\n",
      "[12 21 23 33]\n"
     ]
    }
   ],
   "source": [
    "\n",
    "### comparision operator\n",
    "A = np.array([ [11, 12, 13], [21, 22, 23], [31, 32, 33] ])\n",
    "B = np.array([ [11, 102, 13], [201, 22, 203], [31, 32, 303] ])\n",
    "print(A)\n",
    "print(B)\n",
    "print(A==B)\n",
    "print(A[(A == B) == False])\n",
    "\n",
    "# print(np.array_equal(A, B))\n",
    "# print(np.array_equal(A, A))\n"
   ]
  },
  {
   "cell_type": "code",
   "execution_count": 124,
   "metadata": {},
   "outputs": [
    {
     "name": "stdout",
     "output_type": "stream",
     "text": [
      "[[ True  True]\n",
      " [ True False]]\n",
      "[[ True False]\n",
      " [False False]]\n",
      "[[False False]\n",
      " [ True  True]]\n"
     ]
    }
   ],
   "source": [
    "## Logical Operator\n",
    "a = np.array([ [True, True], [False, False]])\n",
    "b = np.array([ [True, False], [True, False]])\n",
    "print(np.logical_or(a, b))\n",
    "print(np.logical_and(a, b))\n",
    "print(np.logical_not(a, b))\n"
   ]
  },
  {
   "cell_type": "code",
   "execution_count": null,
   "metadata": {
    "collapsed": true
   },
   "outputs": [],
   "source": [
    "#broad casting"
   ]
  },
  {
   "cell_type": "code",
   "execution_count": 79,
   "metadata": {},
   "outputs": [
    {
     "name": "stdout",
     "output_type": "stream",
     "text": [
      "[[1. 1. 1. 1.]\n",
      " [1. 1. 1. 1.]\n",
      " [1. 1. 1. 1.]]\n",
      "(3, 4)\n",
      "[[0.37009963 0.74654827 0.65358327 0.60580952]\n",
      " [0.16919202 0.86158016 0.31409988 0.25913161]\n",
      " [0.05860127 0.16584224 0.9831967  0.47152595]]\n",
      "(3, 4)\n"
     ]
    }
   ],
   "source": [
    "# Initialize `x`\n",
    "x = np.ones((3,4))\n",
    "\n",
    "# print x\n",
    "print(x)\n",
    "# Check shape of `x`\n",
    "print(x.shape)\n",
    "\n",
    "# Initialize `y`\n",
    "y = np.random.random((3,4))\n",
    "print(y)\n",
    "# Check shape of `y`\n",
    "print(y.shape)\n",
    "\n"
   ]
  },
  {
   "cell_type": "code",
   "execution_count": 80,
   "metadata": {},
   "outputs": [
    {
     "name": "stdout",
     "output_type": "stream",
     "text": [
      "[[1.37009963 1.74654827 1.65358327 1.60580952]\n",
      " [1.16919202 1.86158016 1.31409988 1.25913161]\n",
      " [1.05860127 1.16584224 1.9831967  1.47152595]]\n"
     ]
    }
   ],
   "source": [
    "# Add `x` and `y`\n",
    "out = x + y\n",
    "print(out)"
   ]
  },
  {
   "cell_type": "code",
   "execution_count": null,
   "metadata": {
    "collapsed": true
   },
   "outputs": [],
   "source": []
  },
  {
   "cell_type": "code",
   "execution_count": 48,
   "metadata": {},
   "outputs": [
    {
     "name": "stdout",
     "output_type": "stream",
     "text": [
      "Multiplication with broadcasting: \n",
      "[[11 12 13]\n",
      " [21 22 23]\n",
      " [31 32 33]]\n",
      "[1 2 3]\n",
      "[[11 24 39]\n",
      " [21 44 69]\n",
      " [31 64 99]]\n"
     ]
    }
   ],
   "source": [
    "##Broadcasting\n",
    "A = np.array([ [11, 12, 13], [21, 22, 23], [31, 32, 33] ])\n",
    "B = np.array([1, 2, 3])\n",
    "print(\"Multiplication with broadcasting: \")\n",
    "print(A)\n",
    "print(B)\n",
    "print(A*B)\n",
    "# print(\"... and now addition with broadcasting: \")\n",
    "# print(A + B)"
   ]
  },
  {
   "cell_type": "code",
   "execution_count": 77,
   "metadata": {},
   "outputs": [
    {
     "name": "stdout",
     "output_type": "stream",
     "text": [
      "[4, 5, 9.9, 5.3, 8.9, 2.11, 12.3, 14.9]\n"
     ]
    }
   ],
   "source": [
    "## Loop\n",
    "\n",
    "\n",
    "ls = [2,3, 7.9, 3.3, 6.9, 0.11, 10.3, 12.9]\n",
    "res = []\n",
    "for i in ls:\n",
    "    res.append(i + 2)\n",
    "print(res)\n"
   ]
  },
  {
   "cell_type": "code",
   "execution_count": 78,
   "metadata": {},
   "outputs": [
    {
     "name": "stdout",
     "output_type": "stream",
     "text": [
      "[4, 5, 9.9, 5.3, 8.9, 2.11, 12.3, 14.9]\n"
     ]
    }
   ],
   "source": [
    "# below will also do the same\n",
    "res = [ i + 2 for i in ls]\n",
    "print(res)\n"
   ]
  },
  {
   "cell_type": "code",
   "execution_count": 79,
   "metadata": {},
   "outputs": [
    {
     "name": "stdout",
     "output_type": "stream",
     "text": [
      "[0 1 2 3 4 5 6 7 8]\n"
     ]
    },
    {
     "data": {
      "text/plain": [
       "1"
      ]
     },
     "execution_count": 79,
     "metadata": {},
     "output_type": "execute_result"
    }
   ],
   "source": []
  },
  {
   "cell_type": "code",
   "execution_count": 81,
   "metadata": {},
   "outputs": [
    {
     "name": "stdout",
     "output_type": "stream",
     "text": [
      "[[0 1 2]\n",
      " [3 4 5]\n",
      " [6 7 8]]\n",
      "<class 'numpy.ndarray'>\n"
     ]
    }
   ],
   "source": [
    "#reshape\n",
    "\n",
    "b = sq.reshape(3,3)  # 3 row, 3 col\n",
    "print(b)\n",
    "print(type(b))"
   ]
  },
  {
   "cell_type": "code",
   "execution_count": 127,
   "metadata": {},
   "outputs": [
    {
     "name": "stdout",
     "output_type": "stream",
     "text": [
      "[[1 2 3]\n",
      " [4 5 6]]\n",
      "[1 2 3 4 5 6]\n"
     ]
    }
   ],
   "source": [
    "e  = np.array([(1,2,3), (4,5,6)])\n",
    "print(e)\n",
    "e.reshape(3,2)\n",
    "e.flatten()\t\n",
    "print(e.flatten())"
   ]
  },
  {
   "cell_type": "code",
   "execution_count": 128,
   "metadata": {},
   "outputs": [
    {
     "name": "stdout",
     "output_type": "stream",
     "text": [
      "Horizontal Append: [1 2 3 4 5 6]\n",
      "Vertical Append: [[1 2 3]\n",
      " [4 5 6]]\n"
     ]
    }
   ],
   "source": [
    "## Stack and vstack\n",
    "f = np.array([1,2,3])\n",
    "g = np.array([4,5,6])\n",
    "\n",
    "print('Horizontal Append:', np.hstack((f, g)))\n",
    "print('Vertical Append:', np.vstack((f, g)))"
   ]
  },
  {
   "cell_type": "code",
   "execution_count": 146,
   "metadata": {},
   "outputs": [
    {
     "data": {
      "text/plain": [
       "array([[19, 22],\n",
       "       [43, 50]])"
      ]
     },
     "execution_count": 146,
     "metadata": {},
     "output_type": "execute_result"
    }
   ],
   "source": [
    "### Matmul: matruc product of two arrays\n",
    "h = [[1,2],[3,4]] \n",
    "i = [[5,6],[7,8]] \n",
    "### 1*5+2*7 = 19\n",
    "np.matmul(h, i)"
   ]
  }
 ],
 "metadata": {
  "kernelspec": {
   "display_name": "Python 3",
   "language": "python",
   "name": "python3"
  },
  "language_info": {
   "codemirror_mode": {
    "name": "ipython",
    "version": 3
   },
   "file_extension": ".py",
   "mimetype": "text/x-python",
   "name": "python",
   "nbconvert_exporter": "python",
   "pygments_lexer": "ipython3",
   "version": "3.6.1"
  }
 },
 "nbformat": 4,
 "nbformat_minor": 2
}
