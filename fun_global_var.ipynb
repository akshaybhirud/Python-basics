{
 "cells": [
  {
   "cell_type": "code",
   "execution_count": 1,
   "metadata": {},
   "outputs": [
    {
     "name": "stdout",
     "output_type": "stream",
     "text": [
      "value of s within the function : aws\n"
     ]
    }
   ],
   "source": [
    "def f():  \n",
    "    # Local scope \n",
    "    s = \"aws\"\n",
    "    print(\"value of s within the function :\",s)\n",
    "  \n",
    "## call the function\n",
    "f()\n",
    "#print(s)\n"
   ]
  },
  {
   "cell_type": "code",
   "execution_count": 2,
   "metadata": {},
   "outputs": [
    {
     "name": "stdout",
     "output_type": "stream",
     "text": [
      "value of s within the function : aws\n"
     ]
    },
    {
     "ename": "NameError",
     "evalue": "name 's' is not defined",
     "output_type": "error",
     "traceback": [
      "\u001b[1;31m---------------------------------------------------------------------------\u001b[0m",
      "\u001b[1;31mNameError\u001b[0m                                 Traceback (most recent call last)",
      "\u001b[1;32m<ipython-input-2-5394ae949422>\u001b[0m in \u001b[0;36m<module>\u001b[1;34m()\u001b[0m\n\u001b[0;32m      6\u001b[0m \u001b[1;31m## call the function\u001b[0m\u001b[1;33m\u001b[0m\u001b[1;33m\u001b[0m\u001b[0m\n\u001b[0;32m      7\u001b[0m \u001b[0mf\u001b[0m\u001b[1;33m(\u001b[0m\u001b[1;33m)\u001b[0m\u001b[1;33m\u001b[0m\u001b[0m\n\u001b[1;32m----> 8\u001b[1;33m \u001b[0mprint\u001b[0m\u001b[1;33m(\u001b[0m\u001b[1;34m\"value of s outside the function :\"\u001b[0m\u001b[1;33m,\u001b[0m\u001b[0ms\u001b[0m\u001b[1;33m)\u001b[0m\u001b[1;33m\u001b[0m\u001b[0m\n\u001b[0m",
      "\u001b[1;31mNameError\u001b[0m: name 's' is not defined"
     ]
    }
   ],
   "source": [
    "def f():  \n",
    "    # Local scope \n",
    "    s = \"aws\"\n",
    "    print(\"value of s within the function :\",s)\n",
    "  \n",
    "## call the function\n",
    "f()\n",
    "print(\"value of s outside the function :\",s)"
   ]
  },
  {
   "cell_type": "code",
   "execution_count": 9,
   "metadata": {},
   "outputs": [
    {
     "name": "stdout",
     "output_type": "stream",
     "text": [
      "value of s within the function : aws\n",
      "value of s outside the function : aws\n"
     ]
    }
   ],
   "source": [
    "def f():  \n",
    "    print(\"value of s within the function :\",s)\n",
    "    \n",
    "# Global scope \n",
    "s = \"aws\" ## Global variable\n",
    "f() \n",
    "\n",
    "print(\"value of s outside the function :\",s)"
   ]
  },
  {
   "cell_type": "code",
   "execution_count": 9,
   "metadata": {},
   "outputs": [
    {
     "name": "stdout",
     "output_type": "stream",
     "text": [
      "('value of s within the function :', 'aws1')\n",
      "('value of s outside the function :', 'aws')\n"
     ]
    }
   ],
   "source": [
    "def f():  \n",
    "    s = \"aws1\" # local variable\n",
    "    print(\"value of s within the function :\",s)\n",
    "    \n",
    "# Global scope \n",
    "s = \"aws\" ## Global variable\n",
    "f() \n",
    "\n",
    "print(\"value of s outside the function :\",s)"
   ]
  },
  {
   "cell_type": "code",
   "execution_count": 3,
   "metadata": {},
   "outputs": [
    {
     "name": "stdout",
     "output_type": "stream",
     "text": [
      "ann\n",
      "aws\n"
     ]
    }
   ],
   "source": [
    "def f():  \n",
    "    s = \"ann\"\n",
    "    print(s )\n",
    "  \n",
    "# Global scope \n",
    "s = \"aws\" \n",
    "f() \n",
    "print(s)"
   ]
  },
  {
   "cell_type": "code",
   "execution_count": 6,
   "metadata": {},
   "outputs": [
    {
     "name": "stdout",
     "output_type": "stream",
     "text": [
      "Python is great!\n",
      "juzz awesome\n",
      "outside the functuion: juzz awesome\n"
     ]
    }
   ],
   "source": [
    "def f(): \n",
    "    global s \n",
    "    print(s)\n",
    "    s = \"juzz awesome\"\n",
    "    print(s)  \n",
    "  \n",
    "# Global Scope \n",
    "s = \"Python is great!\" \n",
    "f() \n",
    "print(\"outside the functuion:\",s)"
   ]
  },
  {
   "cell_type": "code",
   "execution_count": 8,
   "metadata": {},
   "outputs": [
    {
     "name": "stdout",
     "output_type": "stream",
     "text": [
      "global :  10\n",
      "Inside f() :  10\n",
      "global :  10\n",
      "Inside g() :  20\n",
      "global :  10\n",
      "Inside h() :  30\n",
      "outside after tha change of global value :  30\n"
     ]
    }
   ],
   "source": [
    "\n",
    "a = 10\n",
    "  \n",
    "# Uses global because there is no local 'a' \n",
    "\n",
    "def f(): \n",
    "    print( 'Inside f() : ', a )\n",
    "  \n",
    "# Variable 'a' is redefined as a local \n",
    "def g():     \n",
    "    a = 20 # modified the value of a\n",
    "    print('Inside g() : ',a )\n",
    "  \n",
    "# Uses global keyword to modify global 'a' \n",
    "def h():     \n",
    "    global a \n",
    "    a = 30\n",
    "    print('Inside h() : ',a )\n",
    "  \n",
    "# Global scope \n",
    "print('global : ',a )\n",
    "f() \n",
    "print('global : ',a )\n",
    "g() \n",
    "print('global : ',a )\n",
    "h() \n",
    "print('outside after tha change of global value : ',a )\n",
    "\n"
   ]
  },
  {
   "cell_type": "code",
   "execution_count": 4,
   "metadata": {},
   "outputs": [
    {
     "name": "stdout",
     "output_type": "stream",
     "text": [
      "value of global G: 10\n",
      "value of G inside the func: 10\n",
      "value of F inside the func: 11\n"
     ]
    }
   ],
   "source": [
    "G = 10\n",
    "print(\"value of global G:\",G)\n",
    "\n",
    "def abc():\n",
    "    print(\"value of G inside the func:\",G)\n",
    "    F = G + 1\n",
    "    print(\"value of F inside the func:\", F)\n",
    "    \n",
    "    \n",
    "\n",
    "## call the function\n",
    "abc()"
   ]
  }
 ],
 "metadata": {
  "kernelspec": {
   "display_name": "Python 3",
   "language": "python",
   "name": "python3"
  },
  "language_info": {
   "codemirror_mode": {
    "name": "ipython",
    "version": 3
   },
   "file_extension": ".py",
   "mimetype": "text/x-python",
   "name": "python",
   "nbconvert_exporter": "python",
   "pygments_lexer": "ipython3",
   "version": "3.6.1"
  }
 },
 "nbformat": 4,
 "nbformat_minor": 2
}
