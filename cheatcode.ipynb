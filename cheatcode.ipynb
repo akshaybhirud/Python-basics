{
 "cells": [
  {
   "cell_type": "code",
   "execution_count": 1,
   "metadata": {
    "collapsed": true
   },
   "outputs": [],
   "source": [
    "# this is the first comment\n",
    "spam = 1  # and this is the second comment\n",
    "          # ... and now a third!\n",
    "text = \"# This is not a comment because it's inside quotes.\""
   ]
  },
  {
   "cell_type": "code",
   "execution_count": 2,
   "metadata": {},
   "outputs": [
    {
     "data": {
      "text/plain": [
       "1.6"
      ]
     },
     "execution_count": 2,
     "metadata": {},
     "output_type": "execute_result"
    }
   ],
   "source": [
    ">>> 2 + 2\n",
    "4\n",
    ">>> 50 - 5*6\n",
    "20\n",
    ">>> (50 - 5*6) / 4\n",
    "5.0\n",
    ">>> 8 / 5  # division always returns a floating point number\n",
    "1.6"
   ]
  },
  {
   "cell_type": "code",
   "execution_count": 3,
   "metadata": {},
   "outputs": [
    {
     "data": {
      "text/plain": [
       "17"
      ]
     },
     "execution_count": 3,
     "metadata": {},
     "output_type": "execute_result"
    }
   ],
   "source": [
    ">>> 17 / 3  # classic division returns a float\n",
    "5.666666666666667\n",
    ">>>\n",
    ">>> 17 // 3  # floor division discards the fractional part\n",
    "5\n",
    ">>> 17 % 3  # the % operator returns the remainder of the division\n",
    "2\n",
    ">>> 5 * 3 + 2  # result * divisor + remainder\n",
    "17"
   ]
  },
  {
   "cell_type": "code",
   "execution_count": 4,
   "metadata": {},
   "outputs": [
    {
     "data": {
      "text/plain": [
       "128"
      ]
     },
     "execution_count": 4,
     "metadata": {},
     "output_type": "execute_result"
    }
   ],
   "source": [
    ">>> 5 ** 2  # 5 squared\n",
    "25\n",
    ">>> 2 ** 7  # 2 to the power of 7\n",
    "128"
   ]
  },
  {
   "cell_type": "code",
   "execution_count": 5,
   "metadata": {},
   "outputs": [
    {
     "data": {
      "text/plain": [
       "113.06"
      ]
     },
     "execution_count": 5,
     "metadata": {},
     "output_type": "execute_result"
    }
   ],
   "source": [
    ">>> tax = 12.5 / 100\n",
    ">>> price = 100.50\n",
    ">>> price * tax\n",
    "12.5625\n",
    ">>> price + _\n",
    "113.0625\n",
    ">>> round(_, 2)\n",
    "113.06"
   ]
  },
  {
   "cell_type": "code",
   "execution_count": 6,
   "metadata": {},
   "outputs": [
    {
     "data": {
      "text/plain": [
       "'\"Isn\\'t,\" they said.'"
      ]
     },
     "execution_count": 6,
     "metadata": {},
     "output_type": "execute_result"
    }
   ],
   "source": [
    ">>> 'spam eggs'  # single quotes\n",
    "'spam eggs'\n",
    ">>> 'doesn\\'t'  # use \\' to escape the single quote...\n",
    "\"doesn't\"\n",
    ">>> \"doesn't\"  # ...or use double quotes instead\n",
    "\"doesn't\"\n",
    ">>> '\"Yes,\" they said.'\n",
    "'\"Yes,\" they said.'\n",
    ">>> \"\\\"Yes,\\\" they said.\"\n",
    "'\"Yes,\" they said.'\n",
    ">>> '\"Isn\\'t,\" they said.'\n",
    "'\"Isn\\'t,\" they said.'"
   ]
  },
  {
   "cell_type": "code",
   "execution_count": null,
   "metadata": {
    "collapsed": true
   },
   "outputs": [],
   "source": [
    ">>> '\"Isn\\'t,\" they said.'\n",
    "'\"Isn\\'t,\" they said.'\n",
    ">>> print('\"Isn\\'t,\" they said.')\n",
    "\"Isn't,\" they said.\n",
    ">>> s = 'First line.\\nSecond line.'  # \\n means newline\n",
    ">>> s  # without print(), \\n is included in the output\n",
    "'First line.\\nSecond line.'\n",
    ">>> print(s)  # with print(), \\n produces a new line\n",
    "First line.\n",
    "Second line."
   ]
  },
  {
   "cell_type": "code",
   "execution_count": null,
   "metadata": {
    "collapsed": true
   },
   "outputs": [],
   "source": [
    ">>> print('C:\\some\\name')  # here \\n means newline!\n",
    "C:\\some\n",
    "ame\n",
    ">>> print(r'C:\\some\\name')  # note the r before the quote\n",
    "C:\\some\\name"
   ]
  },
  {
   "cell_type": "code",
   "execution_count": 9,
   "metadata": {},
   "outputs": [
    {
     "name": "stdout",
     "output_type": "stream",
     "text": [
      "Usage: thingy [OPTIONS]\n",
      "     -h                        Display this usage message\n",
      "     -H hostname               Hostname to connect to\n",
      "\n"
     ]
    }
   ],
   "source": [
    "print(\"\"\"\\\n",
    "Usage: thingy [OPTIONS]\n",
    "     -h                        Display this usage message\n",
    "     -H hostname               Hostname to connect to\n",
    "\"\"\")"
   ]
  },
  {
   "cell_type": "code",
   "execution_count": 10,
   "metadata": {},
   "outputs": [
    {
     "data": {
      "text/plain": [
       "'unununium'"
      ]
     },
     "execution_count": 10,
     "metadata": {},
     "output_type": "execute_result"
    }
   ],
   "source": [
    ">>> # 3 times 'un', followed by 'ium'\n",
    ">>> 3 * 'un' + 'ium'\n",
    "'unununium'"
   ]
  },
  {
   "cell_type": "code",
   "execution_count": 11,
   "metadata": {},
   "outputs": [
    {
     "data": {
      "text/plain": [
       "'Python'"
      ]
     },
     "execution_count": 11,
     "metadata": {},
     "output_type": "execute_result"
    }
   ],
   "source": [
    ">>> 'Py' 'thon'\n",
    "'Python'"
   ]
  },
  {
   "cell_type": "code",
   "execution_count": 19,
   "metadata": {
    "collapsed": true
   },
   "outputs": [],
   "source": [
    "prefix = 'Py'\n",
    ">>> prefix 'thon'  # can't concatenate a variable and a string literal\n"
   ]
  },
  {
   "cell_type": "code",
   "execution_count": 20,
   "metadata": {},
   "outputs": [
    {
     "data": {
      "text/plain": [
       "'Python'"
      ]
     },
     "execution_count": 20,
     "metadata": {},
     "output_type": "execute_result"
    }
   ],
   "source": [
    ">>> prefix + 'thon' #If you want to concatenate variables or a variable and a literal, use +:\n",
    "'Python'"
   ]
  },
  {
   "cell_type": "code",
   "execution_count": 21,
   "metadata": {},
   "outputs": [
    {
     "data": {
      "text/plain": [
       "'n'"
      ]
     },
     "execution_count": 21,
     "metadata": {},
     "output_type": "execute_result"
    }
   ],
   "source": [
    ">>> word = 'Python'\n",
    ">>> word[0]  # character in position 0\n",
    "'P'\n",
    ">>> word[5]  # character in position 5\n",
    "'n'"
   ]
  },
  {
   "cell_type": "code",
   "execution_count": 22,
   "metadata": {},
   "outputs": [
    {
     "data": {
      "text/plain": [
       "'P'"
      ]
     },
     "execution_count": 22,
     "metadata": {},
     "output_type": "execute_result"
    }
   ],
   "source": [
    ">>> word[-1]  # last character\n",
    "'n'\n",
    ">>> word[-2]  # second-last character\n",
    "'o'\n",
    ">>> word[-6]  #Note that since -0 is the same as 0, negative indices start from -1.\n",
    "\n",
    "'P'"
   ]
  },
  {
   "cell_type": "code",
   "execution_count": 23,
   "metadata": {},
   "outputs": [
    {
     "data": {
      "text/plain": [
       "'tho'"
      ]
     },
     "execution_count": 23,
     "metadata": {},
     "output_type": "execute_result"
    }
   ],
   "source": [
    ">>> word[0:2]  # characters from position 0 (included) to 2 (excluded)\n",
    "'Py'\n",
    ">>> word[2:5]  # characters from position 2 (included) to 5 (excluded)\n",
    "'tho'"
   ]
  },
  {
   "cell_type": "code",
   "execution_count": null,
   "metadata": {
    "collapsed": true
   },
   "outputs": [],
   "source": [
    "Note how the start is always included, and the end always excluded.\n",
    "This makes sure that s[:i] + s[i:] is always equal to s:"
   ]
  },
  {
   "cell_type": "code",
   "execution_count": 24,
   "metadata": {},
   "outputs": [
    {
     "data": {
      "text/plain": [
       "'Python'"
      ]
     },
     "execution_count": 24,
     "metadata": {},
     "output_type": "execute_result"
    }
   ],
   "source": [
    ">>> word[:2] + word[2:]\n",
    "'Python'\n",
    ">>> word[:4] + word[4:]\n",
    "'Python'"
   ]
  },
  {
   "cell_type": "code",
   "execution_count": 25,
   "metadata": {},
   "outputs": [
    {
     "data": {
      "text/plain": [
       "'on'"
      ]
     },
     "execution_count": 25,
     "metadata": {},
     "output_type": "execute_result"
    }
   ],
   "source": [
    ">>> word[:2]   # character from the beginning to position 2 (excluded)\n",
    "'Py'\n",
    ">>> word[4:]   # characters from position 4 (included) to the end\n",
    "'on'\n",
    ">>> word[-2:]  # characters from the second-last (included) to the end\n",
    "'on'"
   ]
  },
  {
   "cell_type": "markdown",
   "metadata": {},
   "source": [
    "One way to remember how slices work is to think of the indices as pointing between characters, \n",
    "with the left edge of the first character numbered 0. Then the right edge of the last character of a \n",
    "string of n characters has index n, for example:\n",
    "\n",
    " +---+---+---+---+---+---+\n",
    " | P | y | t | h | o | n |\n",
    " +---+---+---+---+---+---+\n",
    " 0   1   2   3   4   5   6\n",
    "-6  -5  -4  -3  -2  -1\n",
    "\n",
    "The first row of numbers gives the position of the indices 0…6 in the string; the second row gives the corresponding negative indices. The slice from i to j consists of all characters between the edges labeled i and j, respectively.\n",
    "\n",
    "For non-negative indices, the length of a slice is the difference of the indices, if both are within bounds. For example, the length of word[1:3] is 2."
   ]
  },
  {
   "cell_type": "markdown",
   "metadata": {},
   "source": [
    "Attempting to use an index that is too large will result in an error:\n",
    "\n",
    ">>>\n",
    ">>> word[42]  # the word only has 6 characters\n",
    "Traceback (most recent call last):\n",
    "  File \"<stdin>\", line 1, in <module>\n",
    "IndexError: string index out of range\n",
    "However, out of range slice indexes are handled gracefully when used for slicing:\n",
    "\n",
    ">>>\n",
    ">>> word[4:42]\n",
    "'on'\n",
    ">>> word[42:]\n",
    "''"
   ]
  },
  {
   "cell_type": "code",
   "execution_count": null,
   "metadata": {
    "collapsed": true
   },
   "outputs": [],
   "source": [
    "Python strings cannot be changed — they are immutable. Therefore, assigning to an indexed position in the string \n",
    "results in an error:\n",
    "\n",
    ">>>\n",
    ">>> word[0] = 'J'\n",
    "Traceback (most recent call last):\n",
    "  File \"<stdin>\", line 1, in <module>\n",
    "TypeError: 'str' object does not support item assignment\n",
    ">>> word[2:] = 'py'\n",
    "Traceback (most recent call last):\n",
    "  File \"<stdin>\", line 1, in <module>\n",
    "TypeError: 'str' object does not support item assignment\n",
    "If you need a different string, you should create a new one:\n",
    "\n",
    ">>>\n",
    ">>> 'J' + word[1:]\n",
    "'Jython'\n",
    ">>> word[:2] + 'py'\n",
    "'Pypy'\n",
    "The built-in function len() returns the length of a string:\n",
    "\n",
    ">>>\n",
    ">>> s = 'supercalifragilisticexpialidocious'\n",
    ">>> len(s)\n",
    "34"
   ]
  },
  {
   "cell_type": "code",
   "execution_count": 26,
   "metadata": {},
   "outputs": [
    {
     "data": {
      "text/plain": [
       "[1, 4, 9, 16, 25]"
      ]
     },
     "execution_count": 26,
     "metadata": {},
     "output_type": "execute_result"
    }
   ],
   "source": [
    ">>> squares = [1, 4, 9, 16, 25]\n",
    ">>> squares\n",
    "[1, 4, 9, 16, 25]"
   ]
  },
  {
   "cell_type": "code",
   "execution_count": 29,
   "metadata": {},
   "outputs": [
    {
     "data": {
      "text/plain": [
       "[9, 16, 25]"
      ]
     },
     "execution_count": 29,
     "metadata": {},
     "output_type": "execute_result"
    }
   ],
   "source": [
    "#Like strings (and all other built-in sequence types), lists can be indexed and sliced:\n",
    "\n",
    "squares[0]  # indexing returns the item\n",
    "1\n",
    "squares[-1]\n",
    "25\n",
    "squares[-3:]  # slicing returns a new list\n",
    "[9, 16, 25]"
   ]
  },
  {
   "cell_type": "code",
   "execution_count": null,
   "metadata": {
    "collapsed": true
   },
   "outputs": [],
   "source": [
    "All slice operations return a new list containing the requested elements. \n",
    "This means that the following slice returns a new (shallow) copy of the list:\n",
    "\n",
    ">>>\n",
    ">>> squares[:]\n",
    "[1, 4, 9, 16, 25]"
   ]
  },
  {
   "cell_type": "code",
   "execution_count": 31,
   "metadata": {},
   "outputs": [
    {
     "data": {
      "text/plain": [
       "[1, 4, 9, 16, 25, 36, 49, 64, 81, 100]"
      ]
     },
     "execution_count": 31,
     "metadata": {},
     "output_type": "execute_result"
    }
   ],
   "source": [
    "#Lists also support operations like concatenation:\n",
    "\n",
    "squares + [36, 49, 64, 81, 100]"
   ]
  },
  {
   "cell_type": "code",
   "execution_count": null,
   "metadata": {
    "collapsed": true
   },
   "outputs": [],
   "source": [
    "Unlike strings, which are immutable, lists are a mutable type, i.e. it is possible to change their content:\n",
    "\n",
    ">>>\n",
    ">>> cubes = [1, 8, 27, 65, 125]  # something's wrong here\n",
    ">>> 4 ** 3  # the cube of 4 is 64, not 65!\n",
    "64\n",
    ">>> cubes[3] = 64  # replace the wrong value\n",
    ">>> cubes\n",
    "[1, 8, 27, 64, 125]"
   ]
  },
  {
   "cell_type": "code",
   "execution_count": null,
   "metadata": {
    "collapsed": true
   },
   "outputs": [],
   "source": [
    "You can also add new items at the end of the list, by using the append() method (we will see more about methods later):\n",
    "\n",
    ">>>\n",
    ">>> cubes.append(216)  # add the cube of 6\n",
    ">>> cubes.append(7 ** 3)  # and the cube of 7\n",
    ">>> cubes\n",
    "[1, 8, 27, 64, 125, 216, 343]"
   ]
  },
  {
   "cell_type": "code",
   "execution_count": null,
   "metadata": {
    "collapsed": true
   },
   "outputs": [],
   "source": [
    "Assignment to slices is also possible, and this can even change the size of the list or clear it entirely:\n",
    "\n",
    ">>>\n",
    ">>> letters = ['a', 'b', 'c', 'd', 'e', 'f', 'g']\n",
    ">>> letters\n",
    "['a', 'b', 'c', 'd', 'e', 'f', 'g']\n",
    ">>> # replace some values\n",
    ">>> letters[2:5] = ['C', 'D', 'E']\n",
    ">>> letters\n",
    "['a', 'b', 'C', 'D', 'E', 'f', 'g']\n",
    ">>> # now remove them\n",
    ">>> letters[2:5] = []\n",
    ">>> letters\n",
    "['a', 'b', 'f', 'g']\n",
    ">>> # clear the list by replacing all the elements with an empty list\n",
    ">>> letters[:] = []\n",
    ">>> letters\n",
    "[]"
   ]
  },
  {
   "cell_type": "code",
   "execution_count": null,
   "metadata": {
    "collapsed": true
   },
   "outputs": [],
   "source": [
    "The built-in function len() also applies to lists:\n",
    "\n",
    ">>>\n",
    ">>> letters = ['a', 'b', 'c', 'd']\n",
    ">>> len(letters)\n",
    "4"
   ]
  },
  {
   "cell_type": "code",
   "execution_count": null,
   "metadata": {
    "collapsed": true
   },
   "outputs": [],
   "source": [
    "It is possible to nest lists (create lists containing other lists), for example:\n",
    "\n",
    ">>>\n",
    ">>> a = ['a', 'b', 'c']\n",
    ">>> n = [1, 2, 3]\n",
    ">>> x = [a, n]\n",
    ">>> x\n",
    "[['a', 'b', 'c'], [1, 2, 3]]\n",
    ">>> x[0]\n",
    "['a', 'b', 'c']\n",
    ">>> x[0][1]\n",
    "'b'"
   ]
  },
  {
   "cell_type": "code",
   "execution_count": null,
   "metadata": {
    "collapsed": true
   },
   "outputs": [],
   "source": [
    ">>> x = int(input(\"Please enter an integer: \"))\n",
    "Please enter an integer: 42\n",
    ">>> if x < 0:\n",
    "...     x = 0\n",
    "...     print('Negative changed to zero')\n",
    "... elif x == 0:\n",
    "...     print('Zero')\n",
    "... elif x == 1:\n",
    "...     print('Single')\n",
    "... else:\n",
    "...     print('More')\n",
    "...\n",
    "More\n",
    "There can be zero or more elif parts, and the else part is optional. \n",
    "The keyword ‘elif’ is short for ‘else if’, and is useful to avoid excessive indentation. \n",
    "An if … elif … elif … sequence is a substitute for the switch or case statements found in other languages."
   ]
  },
  {
   "cell_type": "code",
   "execution_count": null,
   "metadata": {
    "collapsed": true
   },
   "outputs": [],
   "source": [
    "The for statement in Python differs a bit from what you may be used to in C or Pascal. \n",
    "Rather than always iterating over an arithmetic progression of numbers (like in Pascal), or \n",
    "giving the user the ability to define both the iteration step and halting condition (as C), \n",
    "Python’s for statement iterates over the items of any sequence (a list or a string), in the \n",
    "order that they appear in the sequence. For example (no pun intended):\n",
    "\n",
    ">>>\n",
    ">>> # Measure some strings:\n",
    "... words = ['cat', 'window', 'defenestrate']\n",
    ">>> for w in words:\n",
    "...     print(w, len(w))\n",
    "...\n",
    "cat 3\n",
    "window 6\n",
    "defenestrate 12"
   ]
  },
  {
   "cell_type": "code",
   "execution_count": null,
   "metadata": {
    "collapsed": true
   },
   "outputs": [],
   "source": [
    "If you need to modify the sequence you are iterating over while inside the loop (for example to duplicate selected items),\n",
    "it is recommended that you first make a copy. Iterating over a sequence does not implicitly make a copy. \n",
    "The slice notation makes this especially convenient:\n",
    "\n",
    ">>>\n",
    ">>> for w in words[:]:  # Loop over a slice copy of the entire list.\n",
    "...     if len(w) > 6:\n",
    "...         words.insert(0, w)\n",
    "...\n",
    ">>> words\n",
    "['defenestrate', 'cat', 'window', 'defenestrate']\n",
    "With for w in words:, the example would attempt to create an infinite list, inserting defenestrate over and over again."
   ]
  },
  {
   "cell_type": "code",
   "execution_count": null,
   "metadata": {
    "collapsed": true
   },
   "outputs": [],
   "source": [
    "If you do need to iterate over a sequence of numbers, the built-in function range() comes in handy. \n",
    "It generates arithmetic progressions:\n",
    "\n",
    ">>>\n",
    ">>> for i in range(5):\n",
    "...     print(i)\n",
    "...\n",
    "0\n",
    "1\n",
    "2\n",
    "3\n",
    "4"
   ]
  },
  {
   "cell_type": "code",
   "execution_count": null,
   "metadata": {
    "collapsed": true
   },
   "outputs": [],
   "source": [
    "The given end point is never part of the generated sequence; range(10) generates 10 values, \n",
    "the legal indices for items of a sequence of length 10. It is possible to let the range start at \n",
    "another number, or to specify a different increment (even negative; sometimes this is called the ‘step’):\n",
    "\n",
    "range(5, 10)\n",
    "   5, 6, 7, 8, 9\n",
    "\n",
    "range(0, 10, 3)\n",
    "   0, 3, 6, 9\n",
    "\n",
    "range(-10, -100, -30)\n",
    "  -10, -40, -70"
   ]
  },
  {
   "cell_type": "code",
   "execution_count": null,
   "metadata": {
    "collapsed": true
   },
   "outputs": [],
   "source": [
    "To iterate over the indices of a sequence, you can combine range() and len() as follows:\n",
    "\n",
    ">>>\n",
    ">>> a = ['Mary', 'had', 'a', 'little', 'lamb']\n",
    ">>> for i in range(len(a)):\n",
    "...     print(i, a[i])\n",
    "...\n",
    "0 Mary\n",
    "1 had\n",
    "2 a\n",
    "3 little\n",
    "4 lamb\n",
    "In most such cases, however, it is convenient to use the enumerate() function, see Looping Techniques."
   ]
  },
  {
   "cell_type": "code",
   "execution_count": null,
   "metadata": {
    "collapsed": true
   },
   "outputs": [],
   "source": [
    "In many ways the object returned by range() behaves as if it is a list, but in fact it isn’t. \n",
    "It is an object which returns the successive items of the desired sequence when you iterate over it, \n",
    "but it doesn’t really make the list, thus saving space.\n",
    "\n",
    "We say such an object is iterable, that is, suitable as a target for functions and constructs that expect\n",
    "something from which they can obtain successive items until the supply is exhausted. We have seen that \n",
    "the for statement is such an iterator. The function list() is another; it creates lists from iterables:\n",
    "\n",
    ">>>\n",
    ">>> list(range(5))\n",
    "[0, 1, 2, 3, 4]\n",
    "Later we will see more functions that return iterables and take iterables as argument."
   ]
  },
  {
   "cell_type": "code",
   "execution_count": null,
   "metadata": {
    "collapsed": true
   },
   "outputs": [],
   "source": [
    "The break statement, like in C, breaks out of the innermost enclosing for or while loop.\n",
    "\n",
    "Loop statements may have an else clause; it is executed when the loop terminates through exhaustion of \n",
    "the list (with for) or when the condition becomes false (with while), but not when the loop is terminated\n",
    "by a break statement. This is exemplified by the following loop, which searches for prime numbers:\n",
    "\n",
    ">>>\n",
    ">>> for n in range(2, 10):\n",
    "...     for x in range(2, n):\n",
    "...         if n % x == 0:\n",
    "...             print(n, 'equals', x, '*', n//x)\n",
    "...             break\n",
    "...     else:\n",
    "...         # loop fell through without finding a factor\n",
    "...         print(n, 'is a prime number')\n",
    "...\n",
    "2 is a prime number\n",
    "3 is a prime number\n",
    "4 equals 2 * 2\n",
    "5 is a prime number\n",
    "6 equals 2 * 3\n",
    "7 is a prime number\n",
    "8 equals 2 * 4\n",
    "9 equals 3 * 3\n",
    "(Yes, this is the correct code. Look closely: the else clause belongs to the for loop, not the if statement.)\n",
    "\n",
    "When used with a loop, the else clause has more in common with the else clause of a try statement than it does\n",
    "that of if statements: a try statement’s else clause runs when no exception occurs, and a loop’s else clause runs \n",
    "when no break occurs. For more on the try statement and exceptions, see Handling Exceptions."
   ]
  },
  {
   "cell_type": "code",
   "execution_count": 38,
   "metadata": {},
   "outputs": [
    {
     "name": "stdout",
     "output_type": "stream",
     "text": [
      "2 is a prime number\n",
      "3 is a prime number\n",
      "4 equals 2 * 2\n",
      "5 is a prime number\n",
      "6 equals 2 * 3\n",
      "7 is a prime number\n",
      "8 equals 2 * 4\n",
      "9 equals 3 * 3\n"
     ]
    }
   ],
   "source": [
    " for n in range(2, 10):\n",
    "         for x in range(2, n):\n",
    "             if n % x == 0:\n",
    "                 print(n, 'equals', x, '*', n//x)\n",
    "                 break\n",
    "         else:\n",
    "                 # loop fell through without finding a factor\n",
    "                print(n, 'is a prime number')\n"
   ]
  },
  {
   "cell_type": "code",
   "execution_count": null,
   "metadata": {
    "collapsed": true
   },
   "outputs": [],
   "source": [
    "The continue statement, also borrowed from C, continues with the next iteration of the loop:\n",
    "\n",
    ">>>\n",
    ">>> for num in range(2, 10):\n",
    "...     if num % 2 == 0:\n",
    "...         print(\"Found an even number\", num)\n",
    "...         continue\n",
    "...     print(\"Found a number\", num)\n",
    "Found an even number 2\n",
    "Found a number 3\n",
    "Found an even number 4\n",
    "Found a number 5\n",
    "Found an even number 6\n",
    "Found a number 7\n",
    "Found an even number 8\n",
    "Found a number 9"
   ]
  },
  {
   "cell_type": "code",
   "execution_count": 39,
   "metadata": {},
   "outputs": [
    {
     "name": "stdout",
     "output_type": "stream",
     "text": [
      "0 1 1 2 3 5 8 13 21 34 55 89 144 233 377 610 987 1597 \n"
     ]
    }
   ],
   "source": [
    " def fib(n):    # write Fibonacci series up to n\n",
    "     \"\"\"Print a Fibonacci series up to n.\"\"\"\n",
    "     a, b = 0, 1\n",
    "     while a < n:\n",
    "         print(a, end=' ')\n",
    "         a, b = b, a+b\n",
    "     print()\n",
    " # Now call the function we just defined:\n",
    "fib(2000)"
   ]
  },
  {
   "cell_type": "code",
   "execution_count": 42,
   "metadata": {},
   "outputs": [
    {
     "name": "stdout",
     "output_type": "stream",
     "text": [
      "None\n"
     ]
    }
   ],
   "source": [
    "def my_function():\n",
    "    pass\n",
    "print(my_function.__doc__)"
   ]
  },
  {
   "cell_type": "code",
   "execution_count": null,
   "metadata": {
    "collapsed": true
   },
   "outputs": [],
   "source": [
    "The list data type has some more methods. Here are all of the methods of list objects:\n",
    "\n",
    "list.append(x)\n",
    "Add an item to the end of the list. Equivalent to a[len(a):] = [x].\n",
    "\n",
    "list.extend(iterable)\n",
    "Extend the list by appending all the items from the iterable. Equivalent to a[len(a):] = iterable.\n",
    "\n",
    "list.insert(i, x)\n",
    "Insert an item at a given position. The first argument is the index of the element before which to insert, so a.insert(0, x) inserts at the front of the list, and a.insert(len(a), x) is equivalent to a.append(x).\n",
    "\n",
    "list.remove(x)\n",
    "Remove the first item from the list whose value is equal to x. It raises a ValueError if there is no such item.\n",
    "\n",
    "list.pop([i])\n",
    "Remove the item at the given position in the list, and return it. If no index is specified, a.pop() removes and returns\n",
    "the last item in the list. (The square brackets around the i in the method signature denote that the parameter is optional,\n",
    "not that you should type square brackets at that position. You will see this notation frequently in the Python Library \n",
    "                            Reference.)\n",
    "\n",
    "list.clear()\n",
    "Remove all items from the list. Equivalent to del a[:].\n",
    "\n",
    "list.index(x[, start[, end]])\n",
    "Return zero-based index in the list of the first item whose value is equal to x. Raises a ValueError if there is no such item.\n",
    "\n",
    "The optional arguments start and end are interpreted as in the slice notation and are used to limit the search to a particular subsequence of the list. The returned index is computed relative to the beginning of the full sequence rather than the start argument.\n",
    "\n",
    "list.count(x)\n",
    "Return the number of times x appears in the list.\n",
    "\n",
    "list.sort(key=None, reverse=False)\n",
    "Sort the items of the list in place (the arguments can be used for sort customization, see sorted() for their explanation).\n",
    "\n",
    "list.reverse()\n",
    "Reverse the elements of the list in place.\n",
    "\n",
    "list.copy()\n",
    "Return a shallow copy of the list. Equivalent to a[:]."
   ]
  },
  {
   "cell_type": "code",
   "execution_count": null,
   "metadata": {
    "collapsed": true
   },
   "outputs": [],
   "source": [
    "An example that uses most of the list methods:\n",
    "\n",
    ">>>\n",
    ">>> fruits = ['orange', 'apple', 'pear', 'banana', 'kiwi', 'apple', 'banana']\n",
    ">>> fruits.count('apple')\n",
    "2\n",
    ">>> fruits.count('tangerine')\n",
    "0\n",
    ">>> fruits.index('banana')\n",
    "3\n",
    ">>> fruits.index('banana', 4)  # Find next banana starting a position 4\n",
    "6\n",
    ">>> fruits.reverse()\n",
    ">>> fruits\n",
    "['banana', 'apple', 'kiwi', 'banana', 'pear', 'apple', 'orange']\n",
    ">>> fruits.append('grape')\n",
    ">>> fruits\n",
    "['banana', 'apple', 'kiwi', 'banana', 'pear', 'apple', 'orange', 'grape']\n",
    ">>> fruits.sort()\n",
    ">>> fruits\n",
    "['apple', 'apple', 'banana', 'banana', 'grape', 'kiwi', 'orange', 'pear']\n",
    ">>> fruits.pop()\n",
    "'pear'\n",
    "You might have noticed that methods like insert, remove or sort that only modify the list have no return value printed – \n",
    "they return the default None. 1 This is a design principle for all mutable data structures in Python."
   ]
  },
  {
   "cell_type": "code",
   "execution_count": null,
   "metadata": {
    "collapsed": true
   },
   "outputs": [],
   "source": [
    ">>> stack = [3, 4, 5]\n",
    ">>> stack.append(6)\n",
    ">>> stack.append(7)\n",
    ">>> stack\n",
    "[3, 4, 5, 6, 7]\n",
    ">>> stack.pop()\n",
    "7\n",
    ">>> stack\n",
    "[3, 4, 5, 6]\n",
    ">>> stack.pop()\n",
    "6\n",
    ">>> stack.pop()\n",
    "5\n",
    ">>> stack\n",
    "[3, 4]"
   ]
  },
  {
   "cell_type": "code",
   "execution_count": null,
   "metadata": {
    "collapsed": true
   },
   "outputs": [],
   "source": [
    "List comprehensions provide a concise way to create lists. Common applications are to make new lists where \n",
    "each element is the result of some operations applied to each member of another sequence or iterable, or to \n",
    "create a subsequence of those elements that satisfy a certain condition.\n",
    "\n",
    "For example, assume we want to create a list of squares, like:\n",
    "\n",
    ">>>\n",
    ">>> squares = []\n",
    ">>> for x in range(10):\n",
    "...     squares.append(x**2)\n",
    "...\n",
    ">>> squares\n",
    "[0, 1, 4, 9, 16, 25, 36, 49, 64, 81]\n",
    "Note that this creates (or overwrites) a variable named x that still exists after the loop completes. We can calculate the list of squares without any side effects using:\n",
    "\n",
    "squares = list(map(lambda x: x**2, range(10)))\n",
    "or, equivalently:\n",
    "\n",
    "squares = [x**2 for x in range(10)]\n",
    "which is more concise and readable.\n",
    "\n",
    "A list comprehension consists of brackets containing an expression followed by a for clause, then zero or more for or if clauses. The result will be a new list resulting from evaluating the expression in the context of the for and if clauses which follow it. For example, this listcomp combines the elements of two lists if they are not equal:\n",
    "\n",
    ">>>\n",
    ">>> [(x, y) for x in [1,2,3] for y in [3,1,4] if x != y]\n",
    "[(1, 3), (1, 4), (2, 3), (2, 1), (2, 4), (3, 1), (3, 4)]\n",
    "and it’s equivalent to:\n",
    "\n",
    ">>>\n",
    ">>> combs = []\n",
    ">>> for x in [1,2,3]:\n",
    "...     for y in [3,1,4]:\n",
    "...         if x != y:\n",
    "...             combs.append((x, y))\n",
    "...\n",
    ">>> combs\n",
    "[(1, 3), (1, 4), (2, 3), (2, 1), (2, 4), (3, 1), (3, 4)]\n",
    "Note how the order of the for and if statements is the same in both these snippets.\n",
    "\n",
    "If the expression is a tuple (e.g. the (x, y) in the previous example), it must be parenthesized.\n",
    "\n",
    ">>>\n",
    ">>> vec = [-4, -2, 0, 2, 4]\n",
    ">>> # create a new list with the values doubled\n",
    ">>> [x*2 for x in vec]\n",
    "[-8, -4, 0, 4, 8]\n",
    ">>> # filter the list to exclude negative numbers\n",
    ">>> [x for x in vec if x >= 0]\n",
    "[0, 2, 4]\n",
    ">>> # apply a function to all the elements\n",
    ">>> [abs(x) for x in vec]\n",
    "[4, 2, 0, 2, 4]\n",
    ">>> # call a method on each element\n",
    ">>> freshfruit = ['  banana', '  loganberry ', 'passion fruit  ']\n",
    ">>> [weapon.strip() for weapon in freshfruit]\n",
    "['banana', 'loganberry', 'passion fruit']\n",
    ">>> # create a list of 2-tuples like (number, square)\n",
    ">>> [(x, x**2) for x in range(6)]\n",
    "[(0, 0), (1, 1), (2, 4), (3, 9), (4, 16), (5, 25)]\n",
    ">>> # the tuple must be parenthesized, otherwise an error is raised\n",
    ">>> [x, x**2 for x in range(6)]\n",
    "  File \"<stdin>\", line 1, in <module>\n",
    "    [x, x**2 for x in range(6)]\n",
    "               ^\n",
    "SyntaxError: invalid syntax\n",
    ">>> # flatten a list using a listcomp with two 'for'\n",
    ">>> vec = [[1,2,3], [4,5,6], [7,8,9]]\n",
    ">>> [num for elem in vec for num in elem]\n",
    "[1, 2, 3, 4, 5, 6, 7, 8, 9]\n",
    "List comprehensions can contain complex expressions and nested functions:\n",
    "\n",
    ">>>\n",
    ">>> from math import pi\n",
    ">>> [str(round(pi, i)) for i in range(1, 6)]\n",
    "['3.1', '3.14', '3.142', '3.1416', '3.14159']\n",
    "5.1.4. Nested List Comprehensions\n",
    "The initial expression in a list comprehension can be any arbitrary expression, including another list comprehension.\n",
    "\n",
    "Consider the following example of a 3x4 matrix implemented as a list of 3 lists of length 4:\n",
    "\n",
    ">>>\n",
    ">>> matrix = [\n",
    "...     [1, 2, 3, 4],\n",
    "...     [5, 6, 7, 8],\n",
    "...     [9, 10, 11, 12],\n",
    "... ]\n",
    "The following list comprehension will transpose rows and columns:\n",
    "\n",
    ">>>\n",
    ">>> [[row[i] for row in matrix] for i in range(4)]\n",
    "[[1, 5, 9], [2, 6, 10], [3, 7, 11], [4, 8, 12]]\n",
    "As we saw in the previous section, the nested listcomp is evaluated in the context of the for that follows it, so this example is equivalent to:\n",
    "\n",
    ">>>\n",
    ">>> transposed = []\n",
    ">>> for i in range(4):\n",
    "...     transposed.append([row[i] for row in matrix])\n",
    "...\n",
    ">>> transposed\n",
    "[[1, 5, 9], [2, 6, 10], [3, 7, 11], [4, 8, 12]]\n",
    "which, in turn, is the same as:\n",
    "\n",
    ">>>\n",
    ">>> transposed = []\n",
    ">>> for i in range(4):\n",
    "...     # the following 3 lines implement the nested listcomp\n",
    "...     transposed_row = []\n",
    "...     for row in matrix:\n",
    "...         transposed_row.append(row[i])\n",
    "...     transposed.append(transposed_row)\n",
    "...\n",
    ">>> transposed\n",
    "[[1, 5, 9], [2, 6, 10], [3, 7, 11], [4, 8, 12]]\n",
    "In the real world, you should prefer built-in functions to complex flow statements. The zip() function would do a great job for this use case:\n",
    "\n",
    ">>>\n",
    ">>> list(zip(*matrix))\n",
    "[(1, 5, 9), (2, 6, 10), (3, 7, 11), (4, 8, 12)]"
   ]
  },
  {
   "cell_type": "code",
   "execution_count": 43,
   "metadata": {},
   "outputs": [
    {
     "data": {
      "text/plain": [
       "[1, 2, 3, 4, 5, 6, 7, 8, 9]"
      ]
     },
     "execution_count": 43,
     "metadata": {},
     "output_type": "execute_result"
    }
   ],
   "source": [
    "vec = [[1,2,3], [4,5,6], [7,8,9]]\n",
    "[num for elem in vec for num in elem]\n",
    "[1, 2, 3, 4, 5, 6, 7, 8, 9]"
   ]
  },
  {
   "cell_type": "code",
   "execution_count": null,
   "metadata": {
    "collapsed": true
   },
   "outputs": [],
   "source": [
    " The del statement¶\n",
    "There is a way to remove an item from a list given its index instead of its value: the del statement. \n",
    "    This differs from the pop() method which returns a value. The del statement can also be used to remove slices \n",
    "    from a list or clear the entire list (which we did earlier by assignment of an empty list to the slice). For example:\n",
    "\n",
    ">>>\n",
    ">>> a = [-1, 1, 66.25, 333, 333, 1234.5]\n",
    ">>> del a[0]\n",
    ">>> a\n",
    "[1, 66.25, 333, 333, 1234.5]\n",
    ">>> del a[2:4]\n",
    ">>> a\n",
    "[1, 66.25, 1234.5]\n",
    ">>> del a[:]\n",
    ">>> a\n",
    "[]\n",
    "del can also be used to delete entire variables:\n",
    "\n",
    ">>>\n",
    ">>> del a\n",
    "Referencing the name a hereafter is an error (at least until another value is assigned to it). \n",
    "We’ll find other uses for del later."
   ]
  },
  {
   "cell_type": "code",
   "execution_count": null,
   "metadata": {
    "collapsed": true
   },
   "outputs": [],
   "source": [
    "Tuples and Sequences¶\n",
    "We saw that lists and strings have many common properties, such as indexing and slicing operations. \n",
    "They are two examples of sequence data types (see Sequence Types — list, tuple, range). Since Python is\n",
    "an evolving language, other sequence data types may be added. There is also another standard sequence data type: the tuple.\n",
    "\n",
    "A tuple consists of a number of values separated by commas, for instance:\n",
    "\n",
    ">>>\n",
    ">>> t = 12345, 54321, 'hello!'\n",
    ">>> t[0]\n",
    "12345\n",
    ">>> t\n",
    "(12345, 54321, 'hello!')\n",
    ">>> # Tuples may be nested:\n",
    "... u = t, (1, 2, 3, 4, 5)\n",
    ">>> u\n",
    "((12345, 54321, 'hello!'), (1, 2, 3, 4, 5))\n",
    ">>> # Tuples are immutable:\n",
    "... t[0] = 88888\n",
    "Traceback (most recent call last):\n",
    "  File \"<stdin>\", line 1, in <module>\n",
    "TypeError: 'tuple' object does not support item assignment\n",
    ">>> # but they can contain mutable objects:\n",
    "... v = ([1, 2, 3], [3, 2, 1])\n",
    ">>> v\n",
    "([1, 2, 3], [3, 2, 1])\n",
    "As you see, on output tuples are always enclosed in parentheses, so that nested tuples are interpreted correctly; \n",
    "they may be input with or without surrounding parentheses, although often parentheses are necessary anyway (if the tuple is part of a larger expression). It is not possible to assign to the individual items of a tuple, however it is possible to create tuples which contain mutable objects, such as lists.\n",
    "\n",
    "Though tuples may seem similar to lists, they are often used in different situations and for different purposes. Tuples are immutable, and usually contain a heterogeneous sequence of elements that are accessed via unpacking (see later in this section) or indexing (or even by attribute in the case of namedtuples). Lists are mutable, and their elements are usually homogeneous and are accessed by iterating over the list.\n",
    "\n",
    "A special problem is the construction of tuples containing 0 or 1 items: the syntax has some extra quirks to accommodate these. Empty tuples are constructed by an empty pair of parentheses; a tuple with one item is constructed by following a value with a comma (it is not sufficient to enclose a single value in parentheses). Ugly, but effective. For example:\n",
    "\n",
    ">>>\n",
    ">>> empty = ()\n",
    ">>> singleton = 'hello',    # <-- note trailing comma\n",
    ">>> len(empty)\n",
    "0\n",
    ">>> len(singleton)\n",
    "1\n",
    ">>> singleton\n",
    "('hello',)\n",
    "The statement t = 12345, 54321, 'hello!' is an example of tuple packing: the values 12345, 54321 and 'hello!' are packed together in a tuple. The reverse operation is also possible:\n",
    "\n",
    ">>>\n",
    ">>> x, y, z = t\n",
    "This is called, appropriately enough, sequence unpacking and works for any sequence on the right-hand side. Sequence unpacking requires that there are as many variables on the left side of the equals sign as there are elements in the sequence. Note that multiple assignment is really just a combination of tuple packing and sequence unpacking."
   ]
  },
  {
   "cell_type": "code",
   "execution_count": null,
   "metadata": {
    "collapsed": true
   },
   "outputs": [],
   "source": [
    "Sets\n",
    "Python also includes a data type for sets. A set is an unordered collection with no duplicate elements. \n",
    "Basic uses include membership testing and eliminating duplicate entries. Set objects also support mathematical \n",
    "operations like union, intersection, difference, and symmetric difference.\n",
    "\n",
    "Curly braces or the set() function can be used to create sets. Note: to create an empty set you have to use set(), not {};\n",
    "    the latter creates an empty dictionary, a data structure that we discuss in the next section.\n",
    "\n",
    "Here is a brief demonstration:\n",
    "\n",
    ">>>\n",
    ">>> basket = {'apple', 'orange', 'apple', 'pear', 'orange', 'banana'}\n",
    ">>> print(basket)                      # show that duplicates have been removed\n",
    "{'orange', 'banana', 'pear', 'apple'}\n",
    ">>> 'orange' in basket                 # fast membership testing\n",
    "True\n",
    ">>> 'crabgrass' in basket\n",
    "False\n",
    "\n",
    ">>> # Demonstrate set operations on unique letters from two words\n",
    "...\n",
    ">>> a = set('abracadabra')\n",
    ">>> b = set('alacazam')\n",
    ">>> a                                  # unique letters in a\n",
    "{'a', 'r', 'b', 'c', 'd'}\n",
    ">>> a - b                              # letters in a but not in b\n",
    "{'r', 'd', 'b'}\n",
    ">>> a | b                              # letters in a or b or both\n",
    "{'a', 'c', 'r', 'd', 'b', 'm', 'z', 'l'}\n",
    ">>> a & b                              # letters in both a and b\n",
    "{'a', 'c'}\n",
    ">>> a ^ b                              # letters in a or b but not both\n",
    "{'r', 'd', 'b', 'm', 'z', 'l'}\n",
    "Similarly to list comprehensions, set comprehensions are also supported:\n",
    "\n",
    ">>>\n",
    ">>> a = {x for x in 'abracadabra' if x not in 'abc'}\n",
    ">>> a\n",
    "{'r', 'd'}"
   ]
  },
  {
   "cell_type": "code",
   "execution_count": null,
   "metadata": {
    "collapsed": true
   },
   "outputs": [],
   "source": [
    "Dictionaries¶\n",
    "Another useful data type built into Python is the dictionary (see Mapping Types — dict). Dictionaries are sometimes found in other languages as “associative memories” or “associative arrays”. Unlike sequences, which are indexed by a range of numbers, dictionaries are indexed by keys, which can be any immutable type; strings and numbers can always be keys. Tuples can be used as keys if they contain only strings, numbers, or tuples; if a tuple contains any mutable object either directly or indirectly, it cannot be used as a key. You can’t use lists as keys, since lists can be modified in place using index assignments, slice assignments, or methods like append() and extend().\n",
    "\n",
    "It is best to think of a dictionary as a set of key: value pairs, with the requirement that the keys are unique (within one dictionary). A pair of braces creates an empty dictionary: {}. Placing a comma-separated list of key:value pairs within the braces adds initial key:value pairs to the dictionary; this is also the way dictionaries are written on output.\n",
    "\n",
    "The main operations on a dictionary are storing a value with some key and extracting the value given the key. It is also possible to delete a key:value pair with del. If you store using a key that is already in use, the old value associated with that key is forgotten. It is an error to extract a value using a non-existent key.\n",
    "\n",
    "Performing list(d) on a dictionary returns a list of all the keys used in the dictionary, in insertion order (if you want it sorted, just use sorted(d) instead). To check whether a single key is in the dictionary, use the in keyword.\n",
    "\n",
    "Here is a small example using a dictionary:\n",
    "\n",
    ">>>\n",
    ">>> tel = {'jack': 4098, 'sape': 4139}\n",
    ">>> tel['guido'] = 4127\n",
    ">>> tel\n",
    "{'jack': 4098, 'sape': 4139, 'guido': 4127}\n",
    ">>> tel['jack']\n",
    "4098\n",
    ">>> del tel['sape']\n",
    ">>> tel['irv'] = 4127\n",
    ">>> tel\n",
    "{'jack': 4098, 'guido': 4127, 'irv': 4127}\n",
    ">>> list(tel)\n",
    "['jack', 'guido', 'irv']\n",
    ">>> sorted(tel)\n",
    "['guido', 'irv', 'jack']\n",
    ">>> 'guido' in tel\n",
    "True\n",
    ">>> 'jack' not in tel\n",
    "False\n",
    "The dict() constructor builds dictionaries directly from sequences of key-value pairs:\n",
    "\n",
    ">>>\n",
    ">>> dict([('sape', 4139), ('guido', 4127), ('jack', 4098)])\n",
    "{'sape': 4139, 'guido': 4127, 'jack': 4098}\n",
    "In addition, dict comprehensions can be used to create dictionaries from arbitrary key and value expressions:\n",
    "\n",
    ">>>\n",
    ">>> {x: x**2 for x in (2, 4, 6)}\n",
    "{2: 4, 4: 16, 6: 36}\n",
    "When the keys are simple strings, it is sometimes easier to specify pairs using keyword arguments:\n",
    "\n",
    ">>>\n",
    ">>> dict(sape=4139, guido=4127, jack=4098)\n",
    "{'sape': 4139, 'guido': 4127, 'jack': 4098}"
   ]
  },
  {
   "cell_type": "code",
   "execution_count": null,
   "metadata": {
    "collapsed": true
   },
   "outputs": [],
   "source": [
    "Looping Techniques¶\n",
    "When looping through dictionaries, the key and corresponding value can be retrieved at the same time using the items() method.\n",
    "\n",
    ">>>\n",
    ">>> knights = {'gallahad': 'the pure', 'robin': 'the brave'}\n",
    ">>> for k, v in knights.items():\n",
    "...     print(k, v)\n",
    "...\n",
    "gallahad the pure\n",
    "robin the brave\n",
    "When looping through a sequence, the position index and corresponding value can be retrieved at the same time using the enumerate() function.\n",
    "\n",
    ">>>\n",
    ">>> for i, v in enumerate(['tic', 'tac', 'toe']):\n",
    "...     print(i, v)\n",
    "...\n",
    "0 tic\n",
    "1 tac\n",
    "2 toe\n",
    "To loop over two or more sequences at the same time, the entries can be paired with the zip() function.\n",
    "\n",
    ">>>\n",
    ">>> questions = ['name', 'quest', 'favorite color']\n",
    ">>> answers = ['lancelot', 'the holy grail', 'blue']\n",
    ">>> for q, a in zip(questions, answers):\n",
    "...     print('What is your {0}?  It is {1}.'.format(q, a))\n",
    "...\n",
    "What is your name?  It is lancelot.\n",
    "What is your quest?  It is the holy grail.\n",
    "What is your favorite color?  It is blue.\n",
    "To loop over a sequence in reverse, first specify the sequence in a forward direction and then call the reversed() function.\n",
    "\n",
    ">>>\n",
    ">>> for i in reversed(range(1, 10, 2)):\n",
    "...     print(i)\n",
    "...\n",
    "9\n",
    "7\n",
    "5\n",
    "3\n",
    "1\n",
    "To loop over a sequence in sorted order, use the sorted() function which returns a new sorted list while leaving the source unaltered.\n",
    "\n",
    ">>>\n",
    ">>> basket = ['apple', 'orange', 'apple', 'pear', 'orange', 'banana']\n",
    ">>> for f in sorted(set(basket)):\n",
    "...     print(f)\n",
    "...\n",
    "apple\n",
    "banana\n",
    "orange\n",
    "pear\n",
    "It is sometimes tempting to change a list while you are looping over it; however, it is often simpler and safer to create a new list instead.\n",
    "\n",
    ">>>\n",
    ">>> import math\n",
    ">>> raw_data = [56.2, float('NaN'), 51.7, 55.3, 52.5, float('NaN'), 47.8]\n",
    ">>> filtered_data = []\n",
    ">>> for value in raw_data:\n",
    "...     if not math.isnan(value):\n",
    "...         filtered_data.append(value)\n",
    "...\n",
    ">>> filtered_data\n",
    "[56.2, 51.7, 55.3, 52.5, 47.8]"
   ]
  },
  {
   "cell_type": "code",
   "execution_count": 6,
   "metadata": {},
   "outputs": [
    {
     "name": "stdout",
     "output_type": "stream",
     "text": [
      "13\n"
     ]
    }
   ],
   "source": [
    "# multi variable and multiple assignment\n",
    "x = lambda a, b, c : a + b + c\n",
    "print(x(5, 6, 2))"
   ]
  },
  {
   "cell_type": "code",
   "execution_count": 7,
   "metadata": {},
   "outputs": [
    {
     "name": "stdout",
     "output_type": "stream",
     "text": [
      "22\n",
      "33\n"
     ]
    }
   ],
   "source": [
    "def myfunc(n):\n",
    "  return lambda a : a * n\n",
    "\n",
    "mydoubler = myfunc(2)\n",
    "mytripler = myfunc(3)\n",
    "\n",
    "print(mydoubler(11)) \n",
    "print(mytripler(11))"
   ]
  },
  {
   "cell_type": "code",
   "execution_count": null,
   "metadata": {
    "collapsed": true
   },
   "outputs": [],
   "source": [
    "## Above both the function are same\n",
    "# Def function  - we need to define the  function and  need to pass value to it\n",
    "# after execution,  return statement is needed to return the value\n",
    "\n",
    "## Lamda - no return is needed, it contains an expression which returns the value\n",
    "# we can use lambda function anywhere "
   ]
  },
  {
   "cell_type": "code",
   "execution_count": 8,
   "metadata": {},
   "outputs": [
    {
     "name": "stdout",
     "output_type": "stream",
     "text": [
      "False\n"
     ]
    }
   ],
   "source": [
    "# Logical operation\n",
    "x = 12\n",
    "f = lambda x: x > 10\n",
    "print(f(2))\n",
    "#print(f(12))"
   ]
  },
  {
   "cell_type": "code",
   "execution_count": 9,
   "metadata": {},
   "outputs": [
    {
     "name": "stdout",
     "output_type": "stream",
     "text": [
      "(22, 54, 62)\n"
     ]
    }
   ],
   "source": [
    "# filter - filters out all the elements of a sequence “sequence”, for which the function returns True\n",
    "# get the elements which is even in the list\n",
    "li = (5, 7, 22, 97, 54, 62, 77, 23, 73, 61)\n",
    "final_list = tuple(filter(lambda x: (x%2 == 0) , li)) \n",
    "print(final_list)"
   ]
  },
  {
   "cell_type": "code",
   "execution_count": 10,
   "metadata": {},
   "outputs": [
    {
     "name": "stdout",
     "output_type": "stream",
     "text": [
      "[5, 7, 97, 77, 23, 73, 61]\n"
     ]
    }
   ],
   "source": [
    "# get the elements which is odd in the list\n",
    "li = [5, 7, 22, 97, 54, 62, 77, 23, 73, 61] \n",
    "final_list = list(filter(lambda x: (x%2 == 1) , li))\n",
    "print(final_list)"
   ]
  },
  {
   "cell_type": "code",
   "execution_count": 11,
   "metadata": {},
   "outputs": [
    {
     "name": "stdout",
     "output_type": "stream",
     "text": [
      "[10, 14, 44, 194, 108, 124, 154, 46, 146, 122]\n"
     ]
    }
   ],
   "source": [
    "li = [5, 7, 22, 97, 54, 62, 77, 23, 73, 61] \n",
    "final_list = list(map(lambda x: x*2 , li)) \n",
    "print(final_list)"
   ]
  },
  {
   "cell_type": "code",
   "execution_count": 12,
   "metadata": {},
   "outputs": [
    {
     "data": {
      "text/plain": [
       "[False, False, False, True, True, True, True, True, True, True, True]"
      ]
     },
     "execution_count": 12,
     "metadata": {},
     "output_type": "execute_result"
    }
   ],
   "source": [
    "numbers=[1,2,3,4,5,6,7,8,9,10,14]\n",
    "list(map(lambda x:x>3,numbers))"
   ]
  },
  {
   "cell_type": "code",
   "execution_count": 5,
   "metadata": {},
   "outputs": [
    {
     "data": {
      "text/plain": [
       "[0, 1, 4, 9, 16, 25, 36, 49, 64, 81]"
      ]
     },
     "execution_count": 5,
     "metadata": {},
     "output_type": "execute_result"
    }
   ],
   "source": [
    "squares = list(map(lambda x: x**2, range(10)))\n",
    "\n",
    "\n",
    "#squares = [x**2 for x in range(10)]\n",
    "squares"
   ]
  },
  {
   "cell_type": "code",
   "execution_count": 13,
   "metadata": {},
   "outputs": [
    {
     "name": "stdout",
     "output_type": "stream",
     "text": [
      "[{'name': 'python', 'points': 10}, {'name': 'java', 'points': 8}]\n",
      "['python', 'java']\n",
      "[100, 80]\n",
      "[True, False]\n"
     ]
    }
   ],
   "source": [
    "# iteration over dict\n",
    "\n",
    "dict_a = [{'name': 'python', 'points': 10}, {'name': 'java', 'points': 8}]\n",
    "print(dict_a)  \n",
    "print(list(map(lambda x : x['name'], dict_a)))\n",
    "  \n",
    "print(list(map(lambda x : x['points']*10,  dict_a) ))\n",
    "\n",
    "print(list(map(lambda x : x['name'] == \"python\", dict_a)))"
   ]
  },
  {
   "cell_type": "code",
   "execution_count": 14,
   "metadata": {},
   "outputs": [
    {
     "name": "stdout",
     "output_type": "stream",
     "text": [
      "[11, 22, 33]\n"
     ]
    }
   ],
   "source": [
    "# iteration using list\n",
    "list_a = [1, 2, 3]\n",
    "list_b = [10, 20, 30]\n",
    "  \n",
    "print(list(map(lambda x, y: x + y, list_a, list_b)))"
   ]
  },
  {
   "cell_type": "code",
   "execution_count": 19,
   "metadata": {},
   "outputs": [
    {
     "name": "stdout",
     "output_type": "stream",
     "text": [
      "193\n"
     ]
    }
   ],
   "source": [
    "from functools import reduce\n",
    "#import functools\n",
    "li = [5, 8, 10, 20, 50, 100] \n",
    "#sm(li)\n",
    "\n",
    "#li = [\"hi\",\"hello\",\"good\",\"hi\"]\n",
    "sum = reduce((lambda x, y: x + y), li) \n",
    "#sum = reduce((lambda x, y: x + y), li) \n",
    "print (sum)\n",
    "#execution of reducer happens this way\n",
    "#Here the results of previous two elements are added to the next element and this goes\n",
    "#on till the end of the list like (((((5+8)+10)+20)+50)+100)."
   ]
  },
  {
   "cell_type": "code",
   "execution_count": 20,
   "metadata": {},
   "outputs": [
    {
     "name": "stdout",
     "output_type": "stream",
     "text": [
      "The concatenated product is : annworksannaw\n"
     ]
    }
   ],
   "source": [
    "# using reduce to concatenate string \n",
    "import functools \n",
    "import operator\n",
    "print (\"The concatenated product is : \",end=\"\") \n",
    "print (functools.reduce(operator.add,[\"annworks\",\"ann\",\"aw\"]))"
   ]
  },
  {
   "cell_type": "code",
   "execution_count": 21,
   "metadata": {},
   "outputs": [
    {
     "name": "stdout",
     "output_type": "stream",
     "text": [
      "The maximum element of the list is : 6\n"
     ]
    }
   ],
   "source": [
    "# using reduce to compute maximum element from list \n",
    "\n",
    "import functools \n",
    "\n",
    "print (\"The maximum element of the list is : \",end=\"\") \n",
    "lis = [ 1 , 5, 3, 6, 2]\n",
    "print (functools.reduce(lambda a,b : a if a > b else b,lis)) "
   ]
  },
  {
   "cell_type": "code",
   "execution_count": 24,
   "metadata": {
    "collapsed": true
   },
   "outputs": [],
   "source": [
    "# Both reduce() and accumulate() can be used to calculate the summation of a sequence elements.\n",
    "# reduce() is defined in “functools” module, accumulate() in “itertools” module.\n",
    "# reduce() stores the intermediate result and only returns the final summation value. \n",
    "# accumulate() returns a list containing the intermediate results.The last number of the \n",
    "# list returned is summation value of the list.\n",
    "# importing itertools for accumulate() \n",
    "import itertools \n",
    "  \n",
    "# importing functools for reduce() \n",
    "import functools \n"
   ]
  },
  {
   "cell_type": "code",
   "execution_count": 22,
   "metadata": {
    "collapsed": true
   },
   "outputs": [],
   "source": [
    "# initializing list  \n",
    "lis = [ 1, 3, 4, 10, 4 ]"
   ]
  },
  {
   "cell_type": "code",
   "execution_count": 25,
   "metadata": {},
   "outputs": [
    {
     "name": "stdout",
     "output_type": "stream",
     "text": [
      "The summation of list using accumulate is :[1, 4, 8, 18, 22]\n"
     ]
    }
   ],
   "source": [
    "# priting summation using accumulate() \n",
    "print (\"The summation of list using accumulate is :\",end=\"\") \n",
    "print (list(itertools.accumulate(lis,lambda x,y : x+y))) "
   ]
  },
  {
   "cell_type": "code",
   "execution_count": 26,
   "metadata": {},
   "outputs": [
    {
     "name": "stdout",
     "output_type": "stream",
     "text": [
      "The summation of list using reduce is :22\n"
     ]
    }
   ],
   "source": [
    "# priting summation using reduce() \n",
    "print (\"The summation of list using reduce is :\",end=\"\") \n",
    "print (functools.reduce(lambda x,y:x+y,lis))"
   ]
  },
  {
   "cell_type": "code",
   "execution_count": 27,
   "metadata": {},
   "outputs": [
    {
     "name": "stdout",
     "output_type": "stream",
     "text": [
      "global :  10\n",
      "Inside f() :  10\n",
      "global :  10\n",
      "Inside g() :  20\n",
      "global :  10\n",
      "Inside h() :  30\n",
      "outside after tha change of global value :  30\n"
     ]
    }
   ],
   "source": [
    "\n",
    "a = 10\n",
    "  \n",
    "# Uses global because there is no local 'a' \n",
    "\n",
    "def f(): \n",
    "    print( 'Inside f() : ', a )\n",
    "  \n",
    "# Variable 'a' is redefined as a local \n",
    "def g():     \n",
    "    a = 20 # modified the value of a\n",
    "    print('Inside g() : ',a )\n",
    "  \n",
    "# Uses global keyword to modify global 'a' \n",
    "def h():     \n",
    "    global a \n",
    "    a = 30\n",
    "    print('Inside h() : ',a )\n",
    "  \n",
    "# Global scope \n",
    "print('global : ',a )\n",
    "f() \n",
    "print('global : ',a )\n",
    "g() \n",
    "print('global : ',a )\n",
    "h() \n",
    "print('outside after tha change of global value : ',a )\n",
    "\n"
   ]
  },
  {
   "cell_type": "code",
   "execution_count": 28,
   "metadata": {},
   "outputs": [
    {
     "name": "stdout",
     "output_type": "stream",
     "text": [
      "value of s within the function : aws\n"
     ]
    },
    {
     "ename": "NameError",
     "evalue": "name 's' is not defined",
     "output_type": "error",
     "traceback": [
      "\u001b[1;31m---------------------------------------------------------------------------\u001b[0m",
      "\u001b[1;31mNameError\u001b[0m                                 Traceback (most recent call last)",
      "\u001b[1;32m<ipython-input-28-5394ae949422>\u001b[0m in \u001b[0;36m<module>\u001b[1;34m()\u001b[0m\n\u001b[0;32m      6\u001b[0m \u001b[1;31m## call the function\u001b[0m\u001b[1;33m\u001b[0m\u001b[1;33m\u001b[0m\u001b[0m\n\u001b[0;32m      7\u001b[0m \u001b[0mf\u001b[0m\u001b[1;33m(\u001b[0m\u001b[1;33m)\u001b[0m\u001b[1;33m\u001b[0m\u001b[0m\n\u001b[1;32m----> 8\u001b[1;33m \u001b[0mprint\u001b[0m\u001b[1;33m(\u001b[0m\u001b[1;34m\"value of s outside the function :\"\u001b[0m\u001b[1;33m,\u001b[0m\u001b[0ms\u001b[0m\u001b[1;33m)\u001b[0m\u001b[1;33m\u001b[0m\u001b[0m\n\u001b[0m",
      "\u001b[1;31mNameError\u001b[0m: name 's' is not defined"
     ]
    }
   ],
   "source": [
    "def f():  \n",
    "    # Local scope \n",
    "    s = \"aws\"\n",
    "    print(\"value of s within the function :\",s)\n",
    "  \n",
    "## call the function\n",
    "f()\n",
    "print(\"value of s outside the function :\",s)"
   ]
  },
  {
   "cell_type": "code",
   "execution_count": 29,
   "metadata": {},
   "outputs": [
    {
     "name": "stdout",
     "output_type": "stream",
     "text": [
      "value of s within the function : aws\n",
      "value of s outside the function : aws\n"
     ]
    }
   ],
   "source": [
    "def f():  \n",
    "    print(\"value of s within the function :\",s)\n",
    "    \n",
    "# Global scope \n",
    "s = \"aws\" ## Global variable\n",
    "f() \n",
    "\n",
    "print(\"value of s outside the function :\",s)"
   ]
  },
  {
   "cell_type": "code",
   "execution_count": 30,
   "metadata": {},
   "outputs": [
    {
     "name": "stdout",
     "output_type": "stream",
     "text": [
      "value of s within the function : aws1\n",
      "value of s outside the function : aws\n"
     ]
    }
   ],
   "source": [
    "def f():  \n",
    "    s = \"aws1\" # local variable\n",
    "    print(\"value of s within the function :\",s)\n",
    "    \n",
    "# Global scope \n",
    "s = \"aws\" ## Global variable\n",
    "f() \n",
    "\n",
    "print(\"value of s outside the function :\",s)"
   ]
  },
  {
   "cell_type": "code",
   "execution_count": 31,
   "metadata": {},
   "outputs": [
    {
     "name": "stdout",
     "output_type": "stream",
     "text": [
      "C is the greatest\n"
     ]
    }
   ],
   "source": [
    "## If loop, to check more than one condition\n",
    "## compare 3 varaibles\n",
    "## find which is the greatest number\n",
    "    \n",
    "a = 15; b = 21; c = 60\n",
    "if  (a > b) & (a>c) :\n",
    "    print(\"A is the greatest!!!\")\n",
    "elif  (b > a) & (b > c) :\n",
    "    print(\"B is the greatest!!\")\n",
    "else:\n",
    "    print(\"C is the greatest\")"
   ]
  },
  {
   "cell_type": "code",
   "execution_count": 32,
   "metadata": {},
   "outputs": [
    {
     "name": "stdout",
     "output_type": "stream",
     "text": [
      "Hello World\n",
      "Hello World\n",
      "Hello World\n"
     ]
    }
   ],
   "source": [
    "### Simple for loop\n",
    "for i in range(3):\n",
    "    print(\"Hello World\")"
   ]
  },
  {
   "cell_type": "code",
   "execution_count": 33,
   "metadata": {},
   "outputs": [
    {
     "name": "stdout",
     "output_type": "stream",
     "text": [
      "value of i : 3\n",
      "value of i : 4\n",
      "value of i : 5\n",
      "value of i : 6\n",
      "value of i : 7\n"
     ]
    }
   ],
   "source": [
    "## For loop where the range can be specified range(min_value,max_value)\n",
    "for i in range(3,8):\n",
    "    print(\"value of i :\",i)"
   ]
  },
  {
   "cell_type": "code",
   "execution_count": 34,
   "metadata": {},
   "outputs": [
    {
     "name": "stdout",
     "output_type": "stream",
     "text": [
      "3 Odd number\n",
      "4 Even number\n",
      "5 Odd number\n",
      "6 Even number\n",
      "7 Odd number\n"
     ]
    }
   ],
   "source": [
    "for i in range(3,8):\n",
    "    if(i%2 == 0):\n",
    "        print(i,\"Even number\")\n",
    "    else:\n",
    "        print(i,\"Odd number\")"
   ]
  },
  {
   "cell_type": "code",
   "execution_count": 40,
   "metadata": {},
   "outputs": [
    {
     "name": "stdout",
     "output_type": "stream",
     "text": [
      "value of x : 1\n",
      "value of x : 2\n",
      "value of x : 3\n",
      "value of x : 4\n",
      "I have exited the loop\n"
     ]
    }
   ],
   "source": [
    "# if and break statement\n",
    "\n",
    "for x in range(1,10): \n",
    "    print(\"value of x :\", x)\n",
    "    if(x == 4):\n",
    "        break #Break statement will exit the loop block \n",
    "\n",
    "print(\"I have exited the loop\")\n",
    "\n",
    "\n"
   ]
  },
  {
   "cell_type": "code",
   "execution_count": 41,
   "metadata": {},
   "outputs": [
    {
     "name": "stdout",
     "output_type": "stream",
     "text": [
      "value of x : 1\n",
      "value of x : 2\n",
      "value of x : 3\n",
      "value of x : 4\n",
      "There is match found\n",
      "value of x : 5\n",
      "value of x : 6\n",
      "value of x : 7\n",
      "value of x : 8\n",
      "value of x : 9\n"
     ]
    }
   ],
   "source": [
    "# if and continue statement\n",
    "\n",
    "for x in range(1,10): \n",
    "    print(\"value of x :\", x)\n",
    "    if(x == 4):\n",
    "        print(\"There is match found\")\n",
    "        continue #continue statement checks for the condition and continues the loop\n"
   ]
  },
  {
   "cell_type": "code",
   "execution_count": 42,
   "metadata": {},
   "outputs": [
    {
     "name": "stdout",
     "output_type": "stream",
     "text": [
      "hello world\n",
      "hello world\n",
      "hello world\n",
      "hello world\n",
      "hello world\n"
     ]
    }
   ],
   "source": [
    "# while loop\n",
    "# While loop will excuted untill the condition is exhausted\n",
    "# xample - to read all the files in a folder, while loop is the best option\n",
    "## print annworks n time, where n = 5\n",
    "\n",
    "count = 1\n",
    "while(count <=5) :\n",
    " print(\"hello world\")\n",
    " count = count + 1"
   ]
  },
  {
   "cell_type": "code",
   "execution_count": 43,
   "metadata": {},
   "outputs": [
    {
     "name": "stdout",
     "output_type": "stream",
     "text": [
      "The sum of 50 natural number is 1275\n"
     ]
    }
   ],
   "source": [
    "## check the sum of first 50 natural numbers\n",
    "## simple its for 50, n here is 50\n",
    "n = 50\n",
    "\n",
    "##If loops allow only if the number is a positive number\n",
    "if n < 0:\n",
    "   print(\"enter a +ve number\")\n",
    "else:\n",
    "   sum = 0\n",
    "   # use while loop to iterate un till zero\n",
    "   while(n > 0):\n",
    "       sum += n   # initial value of n is 50 and it keeps adding\n",
    "       #print(sum)\n",
    "       n -= 1     # n value is decrease by 1 for every run\n",
    "print(\"The sum of 50 natural number is\",sum)"
   ]
  },
  {
   "cell_type": "code",
   "execution_count": 44,
   "metadata": {},
   "outputs": [
    {
     "name": "stdout",
     "output_type": "stream",
     "text": [
      "560\n",
      "567\n",
      "574\n",
      "581\n",
      "588\n",
      "595\n",
      "602\n",
      "609\n",
      "616\n",
      "623\n",
      "630\n",
      "637\n",
      "644\n",
      "651\n",
      "658\n",
      "665\n",
      "672\n",
      "679\n",
      "686\n",
      "693\n",
      "700\n",
      "707\n",
      "714\n",
      "721\n",
      "728\n",
      "735\n",
      "742\n",
      "749\n",
      "756\n",
      "763\n",
      "770\n",
      "777\n",
      "784\n",
      "791\n",
      "798\n",
      "805\n",
      "812\n",
      "819\n",
      "826\n",
      "833\n",
      "840\n",
      "847\n",
      "854\n",
      "861\n",
      "868\n",
      "875\n",
      "882\n",
      "889\n",
      "896\n",
      "903\n",
      "910\n",
      "917\n",
      "924\n",
      "931\n",
      "938\n",
      "945\n",
      "952\n",
      "959\n",
      "966\n",
      "973\n",
      "980\n",
      "987\n",
      "994\n",
      "1001\n",
      "1008\n",
      "1015\n",
      "1022\n",
      "1029\n",
      "1036\n",
      "1043\n",
      "1050\n",
      "1057\n",
      "1064\n",
      "1071\n",
      "1078\n",
      "1085\n",
      "1092\n",
      "1099\n",
      "1106\n",
      "sum of value within the range and divisible by 7 : 65807\n"
     ]
    }
   ],
   "source": [
    "sum = 0  # initialize a vaiable\n",
    "\n",
    "for x in range(555, 1111): ## given range, min value is 555 and max value is 1111\n",
    "    if (x%7==0): ## check if the value is divisble by 7\n",
    "        \n",
    "        sum = sum + x\n",
    "        print(x) # prints all the elements which is divisible by 7, within the specified range\n",
    "\n",
    "# sum up all the values which is divisible by 7 \n",
    "print(\"sum of value within the range and divisible by 7 :\",sum)   "
   ]
  },
  {
   "cell_type": "code",
   "execution_count": 45,
   "metadata": {},
   "outputs": [
    {
     "name": "stdout",
     "output_type": "stream",
     "text": [
      "560\n",
      "567\n",
      "574\n",
      "581\n",
      "588\n",
      "595\n",
      "602\n",
      "609\n",
      "616\n",
      "623\n",
      "630\n",
      "637\n",
      "644\n",
      "651\n",
      "658\n",
      "665\n",
      "672\n",
      "679\n",
      "686\n",
      "693\n",
      "700\n",
      "707\n",
      "714\n",
      "721\n",
      "728\n",
      "735\n",
      "742\n",
      "749\n",
      "756\n",
      "763\n",
      "770\n",
      "777\n",
      "784\n",
      "791\n",
      "798\n",
      "805\n",
      "812\n",
      "819\n",
      "826\n",
      "833\n",
      "840\n",
      "847\n",
      "854\n",
      "861\n",
      "868\n",
      "875\n",
      "882\n",
      "889\n",
      "896\n",
      "903\n",
      "910\n",
      "917\n",
      "924\n",
      "931\n",
      "938\n",
      "945\n",
      "952\n",
      "959\n",
      "966\n",
      "973\n",
      "980\n",
      "987\n",
      "994\n",
      "1001\n",
      "1008\n",
      "1015\n",
      "1022\n",
      "1029\n",
      "1036\n",
      "1043\n",
      "1050\n",
      "1057\n",
      "1064\n",
      "1071\n",
      "1078\n",
      "1085\n",
      "1092\n",
      "1099\n",
      "1106\n",
      "79\n"
     ]
    }
   ],
   "source": [
    "##  count the number of numbers between 555 and 1111 which are divisible by 7 \n",
    "lst=[] ## create an empty list\n",
    "for x in range(555, 1111): ## given range, min value is 555 and max value is 1111\n",
    "    if (x%7==0): ## check if the value is divisble by 7\n",
    "        lst.append(x) ## values are added every time to the list\n",
    "        print(x)\n",
    "print(len(lst))"
   ]
  },
  {
   "cell_type": "code",
   "execution_count": 1,
   "metadata": {},
   "outputs": [
    {
     "name": "stdout",
     "output_type": "stream",
     "text": [
      "[111556, 112896, 114244, 115600, 116964, 118336, 119716, 121104, 122500, 123904, 125316, 126736, 128164, 129600, 131044, 132496, 133956, 135424, 136900, 138384, 139876, 141376, 142884, 144400, 145924, 147456, 148996, 150544, 152100, 153664, 155236, 156816, 158404, 160000, 161604, 163216, 164836, 166464, 168100, 169744, 171396, 173056, 174724, 176400, 178084, 179776, 181476, 183184, 184900, 186624, 188356, 190096, 191844, 193600, 195364, 197136, 198916, 200704, 202500, 204304, 206116, 207936, 209764, 211600, 213444, 215296, 217156, 219024, 220900, 222784, 224676, 226576, 228484, 230400, 232324, 234256, 236196, 238144, 240100, 242064, 244036, 246016, 248004, 250000, 252004, 254016, 256036, 258064, 260100, 262144, 264196, 266256, 268324, 270400, 272484, 274576, 276676, 278784, 280900, 283024, 285156, 287296, 289444, 291600, 293764, 295936, 298116, 300304, 302500, 304704, 306916, 309136, 311364, 313600, 315844, 318096, 320356, 322624, 324900, 327184, 329476, 331776, 334084, 336400, 338724, 341056, 343396, 345744, 348100, 350464, 352836, 355216, 357604, 360000, 362404, 364816, 367236, 369664, 372100, 374544, 376996, 379456, 381924, 384400, 386884, 389376, 391876, 394384, 396900, 399424, 401956, 404496, 407044, 409600, 412164, 414736, 417316, 419904, 422500, 425104, 427716, 430336, 432964, 435600, 438244, 440896, 443556]\n",
      "[112225, 113569, 114921, 116281, 117649, 119025, 120409, 121801, 123201, 124609, 126025, 127449, 128881, 130321, 131769, 133225, 134689, 136161, 137641, 139129, 140625, 142129, 143641, 145161, 146689, 148225, 149769, 151321, 152881, 154449, 156025, 157609, 159201, 160801, 162409, 164025, 165649, 167281, 168921, 170569, 172225, 173889, 175561, 177241, 178929, 180625, 182329, 184041, 185761, 187489, 189225, 190969, 192721, 194481, 196249, 198025, 199809, 201601, 203401, 205209, 207025, 208849, 210681, 212521, 214369, 216225, 218089, 219961, 221841, 223729, 225625, 227529, 229441, 231361, 233289, 235225, 237169, 239121, 241081, 243049, 245025, 247009, 249001, 251001, 253009, 255025, 257049, 259081, 261121, 263169, 265225, 267289, 269361, 271441, 273529, 275625, 277729, 279841, 281961, 284089, 286225, 288369, 290521, 292681, 294849, 297025, 299209, 301401, 303601, 305809, 308025, 310249, 312481, 314721, 316969, 319225, 321489, 323761, 326041, 328329, 330625, 332929, 335241, 337561, 339889, 342225, 344569, 346921, 349281, 351649, 354025, 356409, 358801, 361201, 363609, 366025, 368449, 370881, 373321, 375769, 378225, 380689, 383161, 385641, 388129, 390625, 393129, 395641, 398161, 400689, 403225, 405769, 408321, 410881, 413449, 416025, 418609, 421201, 423801, 426409, 429025, 431649, 434281, 436921, 439569, 442225]\n"
     ]
    },
    {
     "data": {
      "text/plain": [
       "86327142"
      ]
     },
     "execution_count": 1,
     "metadata": {},
     "output_type": "execute_result"
    }
   ],
   "source": [
    "## get sum of squares of all the even numbers and odd number  between 334 and 667 in seperate list\n",
    "\n",
    "even_sq = [] ## create an empty list for even\n",
    "odd_sq = [] ## create an empty list for odd\n",
    "\n",
    "for i in range(334,667):\n",
    "     if (i%2==0): # if even\n",
    "        even_sq.append(i*i) # append values to even list\n",
    "     else:\n",
    "        odd_sq.append(i*i) # if odd, append values to odd list\n",
    "print(even_sq)\n",
    "print(odd_sq)\n",
    "sum(odd_sq+even_sq)"
   ]
  },
  {
   "cell_type": "code",
   "execution_count": 3,
   "metadata": {},
   "outputs": [
    {
     "name": "stdout",
     "output_type": "stream",
     "text": [
      "1 2 3 4 5 6 7 8 9\n"
     ]
    }
   ],
   "source": [
    "print(*range(1,10))"
   ]
  },
  {
   "cell_type": "code",
   "execution_count": 1,
   "metadata": {},
   "outputs": [
    {
     "name": "stdout",
     "output_type": "stream",
     "text": [
      "123456789\n"
     ]
    }
   ],
   "source": [
    "print(*range(1,10),sep='')"
   ]
  },
  {
   "cell_type": "code",
   "execution_count": null,
   "metadata": {
    "collapsed": true
   },
   "outputs": [],
   "source": [
    "*args and **kwargs in Python\n",
    "*args\n",
    "\n",
    "The special syntax *args in function definitions in python is used to pass a variable number of arguments to a function. It is used to pass a non-keyworded, variable-length argument list.\n",
    "\n",
    "The syntax is to use the symbol * to take in a variable number of arguments; by convention, it is often used with the word args.\n",
    "What *args allows you to do is take in more arguments than the number of formal arguments that you previously defined. With *args, any number of extra arguments can be tacked on to your current formal parameters (including zero extra arguments).\n",
    "For example : we want to make a multiply function that takes any number of arguments and able to multiply them all together. It can be done using *args.\n",
    "Using the *, the variable that we associate with the * becomes an iterable meaning you can do things like iterate over it, run some higher order functions such as map and filter, etc.\n",
    "Example for usage of *arg:\n",
    "filter_none\n",
    "edit\n",
    "play_arrow\n",
    "\n",
    "brightness_4\n",
    "# Python program to illustrate   \n",
    "# *args for variable number of arguments \n"
   ]
  },
  {
   "cell_type": "code",
   "execution_count": 4,
   "metadata": {},
   "outputs": [
    {
     "name": "stdout",
     "output_type": "stream",
     "text": [
      "Hello\n",
      "Welcome\n",
      "to\n",
      "GeeksforGeeks\n"
     ]
    }
   ],
   "source": [
    "def myFun(*argv):  \n",
    "    for arg in argv:  \n",
    "        print (arg) \n",
    "    \n",
    "myFun('Hello', 'Welcome', 'to', 'GeeksforGeeks') "
   ]
  },
  {
   "cell_type": "code",
   "execution_count": 5,
   "metadata": {},
   "outputs": [
    {
     "name": "stdout",
     "output_type": "stream",
     "text": [
      "First argument : Hello\n",
      "Next argument through *argv : Welcome\n",
      "Next argument through *argv : to\n",
      "Next argument through *argv : GeeksforGeeks\n"
     ]
    }
   ],
   "source": [
    "# *args with first extra argument \n",
    "def myFun(arg1, *argv): \n",
    "    print (\"First argument :\", arg1) \n",
    "    for arg in argv: \n",
    "        print(\"Next argument through *argv :\", arg) \n",
    "  \n",
    "myFun('Hello', 'Welcome', 'to', 'GeeksforGeeks') "
   ]
  },
  {
   "cell_type": "code",
   "execution_count": null,
   "metadata": {
    "collapsed": true
   },
   "outputs": [],
   "source": [
    "**kwargs\n",
    "\n",
    "The special syntax **kwargs in function definitions in python is used to pass a keyworded, variable-length argument list.\n",
    "We use the name kwargs with the double star. The reason is because the double star allows us to pass through keyword \n",
    "arguments (and any number of them).\n",
    "\n",
    "A keyword argument is where you provide a name to the variable as you pass it into the function.\n",
    "One can think of the kwargs as being a dictionary that maps each keyword to the value that we pass alongside it. \n",
    "That is why when we iterate over the kwargs there doesn’t seem to be any order in which they were printed out."
   ]
  },
  {
   "cell_type": "code",
   "execution_count": 6,
   "metadata": {},
   "outputs": [
    {
     "name": "stdout",
     "output_type": "stream",
     "text": [
      "first == Geeks\n",
      "mid == for\n",
      "last == Geeks\n"
     ]
    }
   ],
   "source": [
    "# Python program to illustrate   \n",
    "# *kargs for variable number of keyword arguments \n",
    "  \n",
    "def myFun(**kwargs):  \n",
    "    for key, value in kwargs.items(): \n",
    "        print (\"%s == %s\" %(key, value)) \n",
    "  \n",
    "# Driver code \n",
    "myFun(first ='Geeks', mid ='for', last='Geeks')"
   ]
  },
  {
   "cell_type": "code",
   "execution_count": 7,
   "metadata": {},
   "outputs": [
    {
     "name": "stdout",
     "output_type": "stream",
     "text": [
      "first == Geeks\n",
      "mid == for\n",
      "last == Geeks\n"
     ]
    }
   ],
   "source": [
    "# Python program to illustrate  **kargs for  \n",
    "# variable number of keyword arguments with \n",
    "# one extra argument. \n",
    "  \n",
    "def myFun(arg1, **kwargs):  \n",
    "    for key, value in kwargs.items(): \n",
    "        print (\"%s == %s\" %(key, value)) \n",
    "  \n",
    "# Driver code \n",
    "myFun(\"Hi\", first ='Geeks', mid ='for', last='Geeks') "
   ]
  },
  {
   "cell_type": "code",
   "execution_count": 11,
   "metadata": {},
   "outputs": [
    {
     "name": "stdout",
     "output_type": "stream",
     "text": [
      "arg1: Geeks\n",
      "arg2: for\n",
      "arg3: Geeks\n",
      "arg1: Geeks\n",
      "arg2: for\n",
      "arg3: Geeks\n"
     ]
    }
   ],
   "source": [
    "def myFun(arg1, arg2, arg3): \n",
    "    print(\"arg1:\", arg1) \n",
    "    print(\"arg2:\", arg2) \n",
    "    print(\"arg3:\", arg3) \n",
    "      \n",
    "# Now we can use *args or **kwargs to \n",
    "# pass arguments to this function :  \n",
    "args = (\"Geeks\", \"for\", \"Geeks\")\n",
    "myFun(*args) \n",
    "  \n",
    "kwargs = {\"arg1\" : \"Geeks\", \"arg2\" : \"for\", \"arg3\" : \"Geeks\"} \n",
    "myFun(**kwargs)"
   ]
  },
  {
   "cell_type": "code",
   "execution_count": null,
   "metadata": {
    "collapsed": true
   },
   "outputs": [],
   "source": [
    "Python String | split()\n",
    "split() method returns a list of strings after breaking the given string by the specified separator.\n",
    "\n",
    "Syntax :\n",
    "\n",
    "str.split(separator, maxsplit)\n",
    "Parameters :\n",
    "\n",
    "separator : The is a delimiter. The string splits at this specified separator. If is not provided then any white space is \n",
    "    a separator.\n",
    "\n",
    "maxsplit : It is a number, which tells us to split the string into maximum of provided number of times. If it is not \n",
    "    provided then there is no limit."
   ]
  },
  {
   "cell_type": "code",
   "execution_count": 12,
   "metadata": {},
   "outputs": [
    {
     "name": "stdout",
     "output_type": "stream",
     "text": [
      "['geeks', 'for', 'geeks']\n",
      "['geeks', 'for', 'geeks']\n",
      "['geeks', 'for', 'geeks']\n",
      "['Cat', 'Bat', 'Sat', 'Fat', 'Or']\n"
     ]
    }
   ],
   "source": [
    "text = 'geeks for geeks'\n",
    "  \n",
    "# Splits at space \n",
    "print(text.split()) \n",
    "  \n",
    "word = 'geeks, for, geeks'\n",
    "  \n",
    "# Splits at ',' \n",
    "print(word.split(', ')) \n",
    "  \n",
    "word = 'geeks:for:geeks'\n",
    "  \n",
    "# Splitting at ':' \n",
    "print(word.split(':')) \n",
    "  \n",
    "word = 'CatBatSatFatOr'\n",
    "  \n",
    "# Splitting at 3 \n",
    "print([word[i:i+3] for i in range(0, len(word), 3)]) "
   ]
  },
  {
   "cell_type": "code",
   "execution_count": 13,
   "metadata": {},
   "outputs": [
    {
     "name": "stdout",
     "output_type": "stream",
     "text": [
      "['geeks, for, geeks, pawan']\n",
      "['geeks', 'for', 'geeks', 'pawan']\n",
      "['geeks', 'for, geeks, pawan']\n"
     ]
    }
   ],
   "source": [
    "\n",
    "word = 'geeks, for, geeks, pawan'\n",
    "  \n",
    "# maxsplit: 0 \n",
    "print(word.split(', ', 0)) \n",
    "  \n",
    "# maxsplit: 4 \n",
    "print(word.split(', ', 4)) \n",
    "  \n",
    "# maxsplit: 1 \n",
    "print(word.split(', ', 1))"
   ]
  },
  {
   "cell_type": "code",
   "execution_count": 13,
   "metadata": {},
   "outputs": [
    {
     "name": "stdout",
     "output_type": "stream",
     "text": [
      "a\n",
      "a\n",
      "a\n",
      "a\n",
      "b\n",
      "b\n",
      "b\n",
      "c\n",
      "c\n",
      "d\n"
     ]
    }
   ],
   "source": [
    "a = list('aaaabbbccd')\n",
    "for i in a:\n",
    "    print(i)"
   ]
  },
  {
   "cell_type": "code",
   "execution_count": 40,
   "metadata": {},
   "outputs": [
    {
     "name": "stdout",
     "output_type": "stream",
     "text": [
      "['a', '4', 'b', '3', 'c', '2', 'd', '1']\n"
     ]
    },
    {
     "data": {
      "text/plain": [
       "'a4b3c2d1'"
      ]
     },
     "execution_count": 40,
     "metadata": {},
     "output_type": "execute_result"
    }
   ],
   "source": [
    "a='aaaabbbccd'\n",
    "d=set(a)\n",
    "c=[]\n",
    "\n",
    "for i in sorted(d):\n",
    "    count=0\n",
    "    for j in a:\n",
    "        if i==j:\n",
    "            count=count+1\n",
    "            \n",
    "    c.append(i)\n",
    "    c.append(str(count))\n",
    "print(c)\n",
    "''.join(c)"
   ]
  },
  {
   "cell_type": "code",
   "execution_count": null,
   "metadata": {},
   "outputs": [],
   "source": []
  },
  {
   "cell_type": "code",
   "execution_count": null,
   "metadata": {},
   "outputs": [],
   "source": []
  },
  {
   "cell_type": "code",
   "execution_count": null,
   "metadata": {},
   "outputs": [],
   "source": [
    "a=list(int(input()).split( ))"
   ]
  },
  {
   "cell_type": "code",
   "execution_count": 21,
   "metadata": {},
   "outputs": [
    {
     "name": "stdout",
     "output_type": "stream",
     "text": [
      "2 3 4 5 -12\n",
      "5\n"
     ]
    }
   ],
   "source": [
    "a=list(map(int,input().split()))\n",
    "b=sum(a)\n",
    "for i in a:\n",
    "    if b>i:\n",
    "        print(b)\n",
    "        break\n",
    "    else:\n",
    "        print(max(a))  \n",
    "        break"
   ]
  },
  {
   "cell_type": "code",
   "execution_count": 25,
   "metadata": {},
   "outputs": [
    {
     "name": "stdout",
     "output_type": "stream",
     "text": [
      "2 3 5 6\n"
     ]
    },
    {
     "ename": "TypeError",
     "evalue": "int() argument must be a string, a bytes-like object or a number, not 'list'",
     "output_type": "error",
     "traceback": [
      "\u001b[1;31m---------------------------------------------------------------------------\u001b[0m",
      "\u001b[1;31mTypeError\u001b[0m                                 Traceback (most recent call last)",
      "\u001b[1;32m<ipython-input-25-9dcfbe2d7e4b>\u001b[0m in \u001b[0;36m<module>\u001b[1;34m\u001b[0m\n\u001b[1;32m----> 1\u001b[1;33m \u001b[0mlist_of_inputs\u001b[0m \u001b[1;33m=\u001b[0m \u001b[0mint\u001b[0m\u001b[1;33m(\u001b[0m\u001b[0minput\u001b[0m\u001b[1;33m(\u001b[0m\u001b[1;33m)\u001b[0m\u001b[1;33m.\u001b[0m\u001b[0msplit\u001b[0m\u001b[1;33m(\u001b[0m\u001b[1;33m)\u001b[0m\u001b[1;33m)\u001b[0m\u001b[1;33m\u001b[0m\u001b[1;33m\u001b[0m\u001b[0m\n\u001b[0m\u001b[0;32m      2\u001b[0m \u001b[0mlist_of_inputs\u001b[0m\u001b[1;33m\u001b[0m\u001b[1;33m\u001b[0m\u001b[0m\n",
      "\u001b[1;31mTypeError\u001b[0m: int() argument must be a string, a bytes-like object or a number, not 'list'"
     ]
    }
   ],
   "source": [
    "list_of_inputs = int(input().split())\n",
    "list_of_inputs"
   ]
  },
  {
   "cell_type": "code",
   "execution_count": null,
   "metadata": {
    "collapsed": true
   },
   "outputs": [],
   "source": [
    "•\tYou are given an array of historical stock prices per day, for example:\n",
    "o\t[ 6 ,13 , 2, 10 , 3, 5]\n",
    "•\tWrite an algorithm that figures out what days (index of array) you could buy and sell the stock for maximum profit.\n",
    "•\tYou are only allowed to buy the stock once and sell it once. \n",
    "•\tAlso no shorting the stock, you have to buy before selling\n",
    "•\tLet’s walk through an example of this with the example array of stock prices.\n",
    "Given:\n",
    "[ 6 ,13 , 2, 10 , 3, 5]\n",
    "You make the most profit by buying on day 3 (price of $2) and selling on day 4 (price of $10), netting you an $8 gain.\n",
    "Hint:\n",
    "You should be able to solve this problem by only going through the array once!\n"
   ]
  },
  {
   "cell_type": "code",
   "execution_count": 3,
   "metadata": {},
   "outputs": [
    {
     "name": "stdout",
     "output_type": "stream",
     "text": [
      "1 2 3 4\n"
     ]
    }
   ],
   "source": [
    "t = (1,2,3,4)\n",
    "a,b,c,d = t[0],t[1],t[2],t[3]\n",
    "print(a,b,c,d)"
   ]
  },
  {
   "cell_type": "code",
   "execution_count": 20,
   "metadata": {},
   "outputs": [
    {
     "ename": "TypeError",
     "evalue": "'int' object is not subscriptable",
     "output_type": "error",
     "traceback": [
      "\u001b[1;31m---------------------------------------------------------------------------\u001b[0m",
      "\u001b[1;31mTypeError\u001b[0m                                 Traceback (most recent call last)",
      "\u001b[1;32m<ipython-input-20-6f4a3d37af22>\u001b[0m in \u001b[0;36m<module>\u001b[1;34m\u001b[0m\n\u001b[0;32m      1\u001b[0m \u001b[1;32mfor\u001b[0m \u001b[0mi\u001b[0m \u001b[1;32min\u001b[0m \u001b[0mrange\u001b[0m\u001b[1;33m(\u001b[0m\u001b[1;36m0\u001b[0m\u001b[1;33m,\u001b[0m\u001b[1;36m6\u001b[0m\u001b[1;33m)\u001b[0m\u001b[1;33m:\u001b[0m\u001b[1;33m\u001b[0m\u001b[1;33m\u001b[0m\u001b[0m\n\u001b[1;32m----> 2\u001b[1;33m     \u001b[0mprint\u001b[0m\u001b[1;33m(\u001b[0m\u001b[0mi\u001b[0m\u001b[1;33m[\u001b[0m\u001b[1;33m:\u001b[0m\u001b[1;33m:\u001b[0m\u001b[1;33m-\u001b[0m\u001b[1;36m1\u001b[0m\u001b[1;33m]\u001b[0m\u001b[1;33m)\u001b[0m\u001b[1;33m\u001b[0m\u001b[1;33m\u001b[0m\u001b[0m\n\u001b[0m",
      "\u001b[1;31mTypeError\u001b[0m: 'int' object is not subscriptable"
     ]
    }
   ],
   "source": [
    "for i in range((i[::-1])"
   ]
  },
  {
   "cell_type": "code",
   "execution_count": 10,
   "metadata": {},
   "outputs": [],
   "source": [
    "import numpy as np"
   ]
  },
  {
   "cell_type": "code",
   "execution_count": 33,
   "metadata": {},
   "outputs": [
    {
     "name": "stdout",
     "output_type": "stream",
     "text": [
      "0\n",
      "1\n",
      "2\n",
      "3\n",
      "4\n",
      "5\n"
     ]
    }
   ],
   "source": [
    "for i in range(0,6):\n",
    "    "
   ]
  },
  {
   "cell_type": "code",
   "execution_count": 30,
   "metadata": {},
   "outputs": [
    {
     "name": "stdout",
     "output_type": "stream",
     "text": [
      "1 2 3 4 5\n"
     ]
    }
   ],
   "source": [
    "print(*range(1,6))"
   ]
  },
  {
   "cell_type": "code",
   "execution_count": 35,
   "metadata": {},
   "outputs": [
    {
     "data": {
      "text/plain": [
       "['AB', 'CD']"
      ]
     },
     "execution_count": 35,
     "metadata": {},
     "output_type": "execute_result"
    }
   ],
   "source": [
    "y=[]\n",
    "x=['ab','cd']\n",
    "for i in x:\n",
    "    y.append(i.upper())\n",
    "y"
   ]
  },
  {
   "cell_type": "code",
   "execution_count": 36,
   "metadata": {},
   "outputs": [
    {
     "name": "stdout",
     "output_type": "stream",
     "text": [
      "4\n"
     ]
    }
   ],
   "source": [
    "def max(a,b):\n",
    "    if a>b:\n",
    "        print(a)\n",
    "    else:\n",
    "        print(b)\n",
    "max(3,4)"
   ]
  },
  {
   "cell_type": "code",
   "execution_count": 38,
   "metadata": {},
   "outputs": [
    {
     "data": {
      "text/plain": [
       "{1, 2, 3, 4, 5, 6}"
      ]
     },
     "execution_count": 38,
     "metadata": {},
     "output_type": "execute_result"
    }
   ],
   "source": [
    "a = [1,2,3,4,5,6]\n",
    "set(a)"
   ]
  },
  {
   "cell_type": "code",
   "execution_count": 41,
   "metadata": {},
   "outputs": [
    {
     "name": "stdout",
     "output_type": "stream",
     "text": [
      "1\n",
      "2\n",
      "Hello\n",
      "4\n",
      "World\n",
      "Hello\n",
      "7\n",
      "8\n",
      "Hello\n",
      "World\n",
      "11\n",
      "Hello\n",
      "13\n",
      "14\n",
      "Hello World\n",
      "16\n",
      "17\n",
      "Hello\n",
      "19\n",
      "World\n",
      "Hello\n",
      "22\n",
      "23\n",
      "Hello\n",
      "World\n",
      "26\n",
      "Hello\n",
      "28\n",
      "29\n",
      "Hello World\n",
      "31\n",
      "32\n",
      "Hello\n",
      "34\n",
      "World\n",
      "Hello\n",
      "37\n",
      "38\n",
      "Hello\n",
      "World\n",
      "41\n",
      "Hello\n",
      "43\n",
      "44\n",
      "Hello World\n",
      "46\n",
      "47\n",
      "Hello\n",
      "49\n",
      "World\n"
     ]
    }
   ],
   "source": [
    "for i in range(1,51):\n",
    "    if i%3==0 and i%5!=0:\n",
    "        print('Hello')\n",
    "        continue\n",
    "    elif i%3!=0 and i%5==0:\n",
    "        print('World')\n",
    "        continue\n",
    "    elif i%3==0 and i%5==0:\n",
    "        print('Hello World')\n",
    "        continue\n",
    "    else:\n",
    "        print(i)"
   ]
  },
  {
   "cell_type": "code",
   "execution_count": 45,
   "metadata": {},
   "outputs": [
    {
     "name": "stdout",
     "output_type": "stream",
     "text": [
      "[2, 4, 6, 8]\n",
      "[1, 3, 5, 7, 9]\n",
      "4\n",
      "5\n"
     ]
    }
   ],
   "source": [
    "number = 1,2,3,4,5,6,7,8,9\n",
    "a=[]\n",
    "b=[]\n",
    "for i in number:\n",
    "    if i %2==0:\n",
    "        a.append(i)\n",
    "    else:\n",
    "        b.append(i)\n",
    "print(a)\n",
    "print(b)\n",
    "print(len(a))\n",
    "print(len(b))"
   ]
  },
  {
   "cell_type": "code",
   "execution_count": 27,
   "metadata": {},
   "outputs": [
    {
     "name": "stdout",
     "output_type": "stream",
     "text": [
      "0\n",
      "1\n",
      "3\n",
      "4\n",
      "5\n"
     ]
    }
   ],
   "source": [
    "\n",
    "def stock(b):\n",
    "    a = [ 6 ,13 , 2, 10 , 3, 5]\n",
    "    for i in range(len(a)):\n",
    "        if (a[i]-a[b])>0:\n",
    "            print(i)\n",
    "stock(2)"
   ]
  },
  {
   "cell_type": "code",
   "execution_count": 46,
   "metadata": {},
   "outputs": [
    {
     "name": "stdout",
     "output_type": "stream",
     "text": [
      "[2, 3, 1, 4, 5]\n"
     ]
    },
    {
     "data": {
      "text/plain": [
       "5"
      ]
     },
     "execution_count": 46,
     "metadata": {},
     "output_type": "execute_result"
    }
   ],
   "source": [
    "import random\n",
    "a = [1,2,3,4,5]\n",
    "random.shuffle(a)\n",
    "print(a)\n",
    "max(a)"
   ]
  },
  {
   "cell_type": "code",
   "execution_count": 3,
   "metadata": {},
   "outputs": [
    {
     "data": {
      "text/plain": [
       "0    1\n",
       "1    2\n",
       "2    3\n",
       "dtype: int64"
      ]
     },
     "execution_count": 3,
     "metadata": {},
     "output_type": "execute_result"
    }
   ],
   "source": [
    "import pandas as pd\n",
    "import numpy as np\n",
    "ser1 = pd.Series([1,2,3,4,5])\n",
    "ser2 = pd.Series([4,5,6,7,8])\n",
    "ser1[~ser1.isin(ser2)]     # ~ is used for not"
   ]
  },
  {
   "cell_type": "code",
   "execution_count": 49,
   "metadata": {},
   "outputs": [
    {
     "data": {
      "text/plain": [
       "0    1\n",
       "1    2\n",
       "2    3\n",
       "3    4\n",
       "4    5\n",
       "5    6\n",
       "6    7\n",
       "7    8\n",
       "dtype: int64"
      ]
     },
     "execution_count": 49,
     "metadata": {},
     "output_type": "execute_result"
    }
   ],
   "source": [
    "union=pd.Series(np.union1d(ser1,ser2))\n",
    "union"
   ]
  },
  {
   "cell_type": "code",
   "execution_count": 50,
   "metadata": {},
   "outputs": [
    {
     "data": {
      "text/plain": [
       "0    4\n",
       "1    5\n",
       "dtype: int64"
      ]
     },
     "execution_count": 50,
     "metadata": {},
     "output_type": "execute_result"
    }
   ],
   "source": [
    "intersect=pd.Series(np.intersect1d(ser1,ser2))\n",
    "intersect"
   ]
  },
  {
   "cell_type": "code",
   "execution_count": 53,
   "metadata": {},
   "outputs": [
    {
     "data": {
      "text/plain": [
       "0    10\n",
       "1    19\n",
       "2     3\n",
       "3    19\n",
       "4    16\n",
       "5     7\n",
       "6    10\n",
       "dtype: int32"
      ]
     },
     "execution_count": 53,
     "metadata": {},
     "output_type": "execute_result"
    }
   ],
   "source": [
    "ser=pd.Series(np.random.randint(0,20,7))\n",
    "ser"
   ]
  },
  {
   "cell_type": "code",
   "execution_count": 55,
   "metadata": {
    "scrolled": true
   },
   "outputs": [
    {
     "name": "stderr",
     "output_type": "stream",
     "text": [
      "C:\\ProgramData\\Anaconda3\\lib\\site-packages\\numpy\\core\\fromnumeric.py:56: FutureWarning: Series.nonzero() is deprecated and will be removed in a future version.Use Series.to_numpy().nonzero() instead\n",
      "  return getattr(obj, method)(*args, **kwds)\n"
     ]
    },
    {
     "data": {
      "text/plain": [
       "array([[2]], dtype=int64)"
      ]
     },
     "execution_count": 55,
     "metadata": {},
     "output_type": "execute_result"
    }
   ],
   "source": [
    "np.argwhere(ser%3==0)"
   ]
  },
  {
   "cell_type": "code",
   "execution_count": 25,
   "metadata": {},
   "outputs": [
    {
     "data": {
      "text/plain": [
       "array([[6],\n",
       "       [7],\n",
       "       [8],\n",
       "       [9]], dtype=int64)"
      ]
     },
     "execution_count": 25,
     "metadata": {},
     "output_type": "execute_result"
    }
   ],
   "source": [
    "import numpy as np\n",
    "arr = np.array([0,1,2,3,4,5,6,7,8,9])\n",
    "np.argwhere(arr%2!=0)\n",
    "np.ndim(arr.reshape(1,10))\n",
    "np.argwhere(arr>5)"
   ]
  },
  {
   "cell_type": "code",
   "execution_count": 56,
   "metadata": {},
   "outputs": [
    {
     "data": {
      "text/plain": [
       "0       Great\n",
       "1    Learning\n",
       "2       March\n",
       "dtype: object"
      ]
     },
     "execution_count": 56,
     "metadata": {},
     "output_type": "execute_result"
    }
   ],
   "source": [
    "ser=pd.Series(['great','learning','march'])\n",
    "ser.map(lambda x:x.title())"
   ]
  },
  {
   "cell_type": "code",
   "execution_count": 60,
   "metadata": {},
   "outputs": [
    {
     "data": {
      "text/plain": [
       "0    5\n",
       "1    8\n",
       "2    5\n",
       "dtype: int64"
      ]
     },
     "execution_count": 60,
     "metadata": {},
     "output_type": "execute_result"
    }
   ],
   "source": [
    "ser.map(lambda x:len(x))"
   ]
  },
  {
   "cell_type": "code",
   "execution_count": 4,
   "metadata": {},
   "outputs": [
    {
     "data": {
      "text/plain": [
       "a    1\n",
       "b    2\n",
       "c    3\n",
       "dtype: int64"
      ]
     },
     "execution_count": 4,
     "metadata": {},
     "output_type": "execute_result"
    }
   ],
   "source": [
    "d1={'a':1,'b':2,'c':3}\n",
    "pd.Series(d1)"
   ]
  },
  {
   "cell_type": "code",
   "execution_count": 24,
   "metadata": {},
   "outputs": [
    {
     "data": {
      "text/plain": [
       "array([[0, 1, 2, 3, 4, 1, 1, 1, 1, 1],\n",
       "       [5, 6, 7, 8, 9, 1, 1, 1, 1, 1]])"
      ]
     },
     "execution_count": 24,
     "metadata": {},
     "output_type": "execute_result"
    }
   ],
   "source": [
    "a = np.arange(10).reshape(2,-1)\n",
    "b = np.repeat(1,10).reshape(2,-1)\n",
    "np.hstack([a,b])"
   ]
  },
  {
   "cell_type": "code",
   "execution_count": 17,
   "metadata": {},
   "outputs": [
    {
     "data": {
      "text/plain": [
       "array([[0, 1, 2, 3, 4],\n",
       "       [5, 6, 7, 8, 9]])"
      ]
     },
     "execution_count": 17,
     "metadata": {},
     "output_type": "execute_result"
    }
   ],
   "source": [
    "a = np.arange(10).reshape(2,-1)\n",
    "a"
   ]
  },
  {
   "cell_type": "code",
   "execution_count": null,
   "metadata": {},
   "outputs": [],
   "source": []
  },
  {
   "cell_type": "code",
   "execution_count": null,
   "metadata": {},
   "outputs": [],
   "source": []
  },
  {
   "cell_type": "code",
   "execution_count": null,
   "metadata": {},
   "outputs": [],
   "source": []
  },
  {
   "cell_type": "code",
   "execution_count": null,
   "metadata": {},
   "outputs": [],
   "source": []
  },
  {
   "cell_type": "code",
   "execution_count": null,
   "metadata": {},
   "outputs": [],
   "source": []
  },
  {
   "cell_type": "code",
   "execution_count": null,
   "metadata": {},
   "outputs": [],
   "source": []
  },
  {
   "cell_type": "code",
   "execution_count": null,
   "metadata": {},
   "outputs": [],
   "source": []
  },
  {
   "cell_type": "code",
   "execution_count": null,
   "metadata": {},
   "outputs": [],
   "source": []
  }
 ],
 "metadata": {
  "kernelspec": {
   "display_name": "Python 3",
   "language": "python",
   "name": "python3"
  },
  "language_info": {
   "codemirror_mode": {
    "name": "ipython",
    "version": 3
   },
   "file_extension": ".py",
   "mimetype": "text/x-python",
   "name": "python",
   "nbconvert_exporter": "python",
   "pygments_lexer": "ipython3",
   "version": "3.7.3"
  }
 },
 "nbformat": 4,
 "nbformat_minor": 2
}
